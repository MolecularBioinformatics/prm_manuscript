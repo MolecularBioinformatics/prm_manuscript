{
 "cells": [
  {
   "cell_type": "code",
   "execution_count": null,
   "metadata": {},
   "outputs": [],
   "source": [
    "import warnings\n",
    "warnings.filterwarnings('ignore')\n",
    "\n",
    "import pandas as pd\n",
    "import seaborn as sns\n",
    "import matplotlib.pyplot as plt\n",
    "import numpy as np\n",
    "# import plotting as plot\n",
    "# import itertools\n",
    "# import pyreporter as pr\n",
    "import utility\n",
    "\n",
    "import recon\n",
    "recon3d = recon.recon.Recon()\n",
    "util = recon.utilities.Utilities()\n",
    "\n",
    "sns.set_style('white')\n",
    "sns.set_style('ticks')"
   ]
  },
  {
   "cell_type": "code",
   "execution_count": null,
   "metadata": {},
   "outputs": [],
   "source": [
    "rna = pd.read_csv('../../data/NAD_cell_lines/gene_fpkm.xls.csv', index_col=0)\n",
    "rna = rna[rna.columns[rna.columns.str.contains('wtHEK293|HEK25a51|HEK25A51')]]\n",
    "rna = rna[~(rna == 0).any(axis=1)]\n",
    "rna = util.map_gene(df=rna, g_mapping=recon3d.genes, mapping_column='ensembl_gene')\n",
    "rna_wt = rna.filter(like='wtHEK')\n",
    "rna_ko = rna.filter(like='HEK25a51ko')\n",
    "rna_oe = rna.filter(like='HEK25A51oe')\n",
    "rna = pd.concat((rna_wt.mean(axis=1), rna_ko.mean(axis=1), rna_oe.mean(axis=1)), axis=1)\n",
    "rna.columns = ['wt', 'ko', 'oe']"
   ]
  },
  {
   "cell_type": "code",
   "execution_count": null,
   "metadata": {},
   "outputs": [],
   "source": [
    "rdict = (rna['ko']-(rna['wt'])).div(rna['wt'], axis=0).replace(np.inf, np.nan).dropna()\n",
    "rdict.head()"
   ]
  },
  {
   "cell_type": "code",
   "execution_count": null,
   "metadata": {},
   "outputs": [],
   "source": [
    "res = pd.read_csv('../../data/NAD_cell_lines/pr_slc25a51ko_wt.csv', index_col=0, sep='\\t')\n",
    "# res = util.reshape(res, include=None)"
   ]
  },
  {
   "cell_type": "code",
   "execution_count": null,
   "metadata": {},
   "outputs": [],
   "source": [
    "# gs = util.reshape(recon3d.gs, include=None)\n",
    "gs = recon3d.gs\n",
    "\n",
    "gnames = recon3d.genes.set_index('gene_number').to_dict()['symbol']\n",
    "gnames = {str(k):v for k,v in gnames.items()}"
   ]
  },
  {
   "cell_type": "code",
   "execution_count": null,
   "metadata": {},
   "outputs": [],
   "source": [
    "mets = pd.read_csv('../../data/NAD_cell_lines/merged_metabolites_measurement.csv')\n",
    "_gs = util.reshape(gs.T.mul(rdict, axis=0).dropna().T, include=None)\n",
    "gs_met = _gs.query('metabolites in @mets.fullName.unique() and compartment != \"extracellular\"')\n",
    "gs_met = gs_met.groupby('metabolites').mean()\n",
    "\n",
    "gs_met = gs_met.rename(columns=gnames)\n",
    "gs_met.head()"
   ]
  },
  {
   "cell_type": "code",
   "execution_count": null,
   "metadata": {},
   "outputs": [],
   "source": [
    "rdict.max()"
   ]
  },
  {
   "cell_type": "code",
   "execution_count": null,
   "metadata": {},
   "outputs": [],
   "source": [
    "sns.set_context('talk', font_scale=0.6)\n",
    "\n",
    "fig, ax = plt.subplots(figsize=(1., 5))\n",
    "cm = sns.heatmap(data=pd.DataFrame(rdict, columns=['transcriptomics compared to baseline']), cmap='seismic', \n",
    "                 center=0, robust=True, xticklabels=False, yticklabels=False, \n",
    "                 ax=ax, cbar_kws={'label': '$\\Delta\\Phi$', 'location':'top'},\n",
    "                )\n",
    "cm.set_ylabel('genes')\n",
    "fig.savefig('../../images/NAD_cell_lines/SLC25A51ko/differential_rnaseq.png', bbox_inches='tight')"
   ]
  },
  {
   "cell_type": "code",
   "execution_count": null,
   "metadata": {},
   "outputs": [],
   "source": [
    "_gs"
   ]
  },
  {
   "cell_type": "code",
   "execution_count": null,
   "metadata": {},
   "outputs": [],
   "source": [
    "sns.set_context('talk', font_scale=0.8)\n",
    "\n",
    "cm = sns.clustermap(data=_gs.groupby('metabolites').mean(), cmap='seismic', center=0, robust=True, \n",
    "                figsize=(6,5), yticklabels=False, dendrogram_ratio=(0.15, 0.0), method='ward',\n",
    "                xticklabels=False, cbar_kws={'label': '$C_{\\Phi}^{M}$'}, cbar_pos=(0.02, 0.8, 0.02, 0.2),\n",
    "                col_cluster=False, row_cluster=False,\n",
    "                )\n",
    "cm.ax_heatmap.set_xlabel('genes')\n",
    "cm.ax_heatmap.set_ylabel('metabolites')\n",
    "cm.savefig('../../images/NAD_cell_lines/SLC25A51ko/response_coefficients_all.png', bbox_inches='tight')"
   ]
  },
  {
   "cell_type": "code",
   "execution_count": null,
   "metadata": {},
   "outputs": [],
   "source": [
    "consistent = ['2,3-Diphosphoglyceric acid', '6-Phosphogluconic acid', 'ATP',\n",
    "       'Citric acid', 'D-Glucose', 'D-Sedoheptulose 7-phosphate',\n",
    "       'Fructose 6-phosphate', 'Glucose 1-phosphate', 'Glucose 6-phosphate',\n",
    "       'Isocitric acid', 'L-Alanine', 'L-Arginine', 'L-Aspartic acid',\n",
    "       'L-Glutamine', 'L-Lactic acid', 'L-Lysine', 'L-Phenylalanine',\n",
    "       'L-Proline', 'L-Threonine', 'L-Tryptophan', 'L-Tyrosine',\n",
    "       'Pyruvic acid', 'Succinic acid', 'cis-Aconitic acid']"
   ]
  },
  {
   "cell_type": "code",
   "execution_count": null,
   "metadata": {},
   "outputs": [],
   "source": [
    "\n",
    "sns.set_context('talk', font_scale=0.6)\n",
    "_gs_met = gs_met.T[(gs_met.T.abs() > 0.005).any(axis=1)].T\n",
    "# _gs_met = (_gs_met - _gs_met.mean()).div(_gs_met.std(axis=1), axis=0)\n",
    "\n",
    "# fig, ax = plt.subplots(figsize=(20, 6))\n",
    "cm = sns.clustermap(data=_gs_met, cmap='seismic', center=0, robust=True, \n",
    "                col_cluster=False, row_cluster=False,\n",
    "                figsize=(15, 8), yticklabels=True, dendrogram_ratio=(0.12, 0.0), method='weighted',\n",
    "                xticklabels=True, cbar_kws={'label': '$\\Gamma^{\\Phi}_{M}$'}, cbar_pos=(0.02, 0.8, 0.02, 0.18),\n",
    "                )\n",
    "cm.ax_heatmap.set_xlabel('genes', fontdict={'size': 20})\n",
    "cm.ax_heatmap.set_ylabel('metabolites', fontdict={'size': 20})\n",
    "\n",
    "cm.savefig('../../images/NAD_cell_lines/SLC25A51ko/response_coefficients.svg', bbox_inches='tight')"
   ]
  },
  {
   "cell_type": "code",
   "execution_count": null,
   "metadata": {},
   "outputs": [],
   "source": [
    "sns.set_context('talk', font_scale=0.6)\n",
    "_gs_met = gs_met.T[(gs_met.T.abs() > 0.005).any(axis=1)].T\n",
    "\n",
    "cm = sns.clustermap(data=_gs_met[_gs_met.index.isin(consistent)], cmap='seismic', center=0, robust=True, \n",
    "                col_cluster=False, row_cluster=False,\n",
    "                figsize=(15, 5), yticklabels=True, dendrogram_ratio=(0.12, 0.0), method='weighted',\n",
    "                xticklabels=True, cbar_kws={'label': '$\\Gamma^{\\Phi}_{M}$'}, cbar_pos=(0.02, 0.8, 0.02, 0.18),\n",
    "                )\n",
    "cm.ax_heatmap.set_xlabel('genes', fontdict={'size': 20})\n",
    "cm.ax_heatmap.set_ylabel('metabolites', fontdict={'size': 20})\n",
    "cm.savefig('../../images/NAD_cell_lines/SLC25A51ko/response_coefficients_tol005_consistent.svg', bbox_inches='tight')"
   ]
  },
  {
   "cell_type": "code",
   "execution_count": null,
   "metadata": {},
   "outputs": [],
   "source": [
    "rdict"
   ]
  },
  {
   "cell_type": "code",
   "execution_count": null,
   "metadata": {},
   "outputs": [],
   "source": []
  },
  {
   "cell_type": "code",
   "execution_count": null,
   "metadata": {},
   "outputs": [],
   "source": [
    "mets = pd.read_csv('../../data/NAD_cell_lines/merged_metabolites_measurement.csv')\n",
    "m_wt = mets[mets.group == 'CTRL'].pivot_table(index='fullName', columns='replicate', values='Amount/mg Protein')\n",
    "m_ko = mets[mets.group == 'KO'].pivot_table(index='fullName', columns='replicate', values='Amount/mg Protein')\n",
    "m_oe = mets[mets.group == 'OE'].pivot_table(index='fullName', columns='replicate', values='Amount/mg Protein')\n",
    "m_wt.columns = ['wt1', 'wt2', 'wt3', 'wt4', 'wt5']\n",
    "m_ko.columns = ['ko1', 'ko2', 'ko3', 'ko4', 'ko5']\n",
    "m_oe.columns = ['oe1', 'oe2', 'oe3', 'oe4', 'oe5']"
   ]
  },
  {
   "cell_type": "code",
   "execution_count": null,
   "metadata": {},
   "outputs": [],
   "source": [
    "y_gs = _gs[_gs.metabolites.isin(mets.fullName.unique())].groupby('metabolites').mean().sum(axis=1)\n",
    "x_gs = _gs[_gs.metabolites.isin(mets.fullName.unique())].groupby('metabolites').mean()[rdict.index].sum(axis=1)\n",
    "m_ko_wt = (m_ko.mean(axis=1)  - m_wt.mean(axis=1)).div(m_wt.mean(axis=1), axis=0).replace(np.inf, np.nan).dropna()\n",
    "\n",
    "print(np.corrcoef(m_ko_wt, x_gs)[0,1])\n",
    "print(np.corrcoef(x_gs, y_gs)[0,1])\n",
    "\n",
    "sns.scatterplot(x=x_gs, y=y_gs, color='k', alpha=0.5)\n",
    "sns.scatterplot(x=m_ko_wt, y=y_gs, color='r', alpha=0.5)\n"
   ]
  },
  {
   "cell_type": "code",
   "execution_count": null,
   "metadata": {},
   "outputs": [],
   "source": [
    "_df = pd.concat((m_ko_wt, y_gs), axis=1)\n",
    "_df.columns = ['ko_wt', 'gs']\n",
    "_df[(_df < 0.0).all(axis=1)|(_df > 0.0).all(axis=1)]"
   ]
  },
  {
   "cell_type": "code",
   "execution_count": null,
   "metadata": {},
   "outputs": [],
   "source": [
    "def get_genes_from_metabolite(met):\n",
    "    _rxns = recon3d.get_reactions_from_metabolite(met)\n",
    "    _rxns_gpr = {k:v for k,v in recon3d.gpr.items() if k in _rxns.abbreviation.values}\n",
    "    _rxns_genes = utility.get_genenumbers_from_rxn(_rxns_gpr)\n",
    "    return _rxns_genes\n",
    "\n",
    "def calculate_alpha(met):\n",
    "    _rxns_genes = get_genes_from_metabolite(met)\n",
    "    _gs_met = gs[(gs.metabolites == met) & (gs.compartment != 'extracellular')].groupby('metabolites').mean()[_rxns_genes]\n",
    "    _alpha_met = (_gs_met[_gs_met.columns.intersection(rdict.index)].abs().sum(axis=1)).div(_gs_met.abs().sum(axis=1), axis=0).iloc[0]\n",
    "    return _alpha_met"
   ]
  },
  {
   "cell_type": "code",
   "execution_count": null,
   "metadata": {},
   "outputs": [],
   "source": [
    "for met in mets.fullName.unique():\n",
    "    print(met, calculate_alpha(met))"
   ]
  },
  {
   "cell_type": "code",
   "execution_count": null,
   "metadata": {},
   "outputs": [],
   "source": [
    "for met in mets.fullName.unique():\n",
    "    _rxns_genes = get_genes_from_metabolite(met)\n",
    "    _gs_met = gs[(gs.metabolites == met) & (gs.compartment != 'extracellular')].groupby('metabolites').mean()[_rxns_genes]\n",
    "    _c_met = _gs_met[_gs_met.columns.intersection(rdict.index)]\n",
    "    _df1 = pd.concat((np.log2(rdict[rdict.index.isin(_rxns_genes)]), _c_met.sum()), axis=1)\n",
    "    _df1.columns = ['expression', 'control']\n",
    "    print(met, _df1.corr().iloc[0,1], calculate_alpha(met))"
   ]
  },
  {
   "cell_type": "code",
   "execution_count": null,
   "metadata": {},
   "outputs": [],
   "source": [
    "_df1[(_df1 > 0.0).all(axis=1) | (_df1 < 0.0).all(axis=1)].corr()\n",
    "_df1[~((_df1 > 0.0).all(axis=1) | (_df1 < 0.0).all(axis=1))]#.corr()"
   ]
  },
  {
   "cell_type": "code",
   "execution_count": null,
   "metadata": {},
   "outputs": [],
   "source": [
    "gnames = recon3d.genes.set_index('gene_number').to_dict()['symbol']\n",
    "gnames = {str(k):v for k,v in gnames.items()}\n",
    "\n",
    "gs_mets = gs.query('metabolites in @mets.fullName.unique() and compartment != \"extracellular\"').groupby('metabolites').mean()\n",
    "\n",
    "# rg = []\n",
    "# for met in mets.fullName.unique():\n",
    "#     _rxns_genes = get_genes_from_metabolite(met)\n",
    "#     rg = rg + _rxns_genes\n",
    "# rg = list(set(rg))\n",
    "# gs_mets = gs_mets[gs_mets.columns.intersection((rdict.index).intersection(rg))]\n",
    "# gs_mets = gs_mets.rename(columns=gnames).T"
   ]
  },
  {
   "cell_type": "code",
   "execution_count": null,
   "metadata": {},
   "outputs": [],
   "source": [
    "gs"
   ]
  },
  {
   "cell_type": "code",
   "execution_count": null,
   "metadata": {},
   "outputs": [],
   "source": [
    "fig, ax = plt.subplots(figsize=(25,8))\n",
    "sns.heatmap(data=gs_mets.T, cmap='RdBu_r', center=0.0, vmin=-0.1, vmax=0.1,\n",
    "            yticklabels=True, ax=ax, cbar_kws={'label': 'centrality control coefficient'})"
   ]
  },
  {
   "cell_type": "code",
   "execution_count": null,
   "metadata": {},
   "outputs": [],
   "source": [
    "gs_mets"
   ]
  },
  {
   "cell_type": "code",
   "execution_count": null,
   "metadata": {},
   "outputs": [],
   "source": []
  },
  {
   "cell_type": "code",
   "execution_count": null,
   "metadata": {},
   "outputs": [],
   "source": [
    "sns.set_context('paper', font_scale=1.2)\n",
    "tol = 1e-2\n",
    "_gs_mets = gs_mets[(gs_mets > tol).any(axis=1) | (gs_mets < -tol).all(axis=1)]\n",
    "_gs_mets_norm = (_gs_mets - _gs_mets.mean()).div(_gs_mets.std(axis=1), axis=0)\n",
    "\n",
    "# _gs_mets_norm\n",
    "cm = sns.clustermap(data=_gs_mets_norm.T, cmap='RdBu_r', center=0.0, figsize=(20,10), #vmin=-0.2, vmax=0.2, \n",
    "               col_cluster=True, row_cluster=True, yticklabels=True, xticklabels=True, dendrogram_ratio=(0.1, 0.2),\n",
    "               cbar_kws={'label': 'normalised coefficient'})\n",
    "cm.ax_cbar.set_position((0.02, 0.8, 0.02, 0.2))\n",
    "cm.figure.savefig('../../images/NAD_cell_lines/SLC25A51ko/control_coefficients_tol.png', bbox_inches='tight')\n",
    "# fig, ax = plt.subplots(figsize=(25,8))\n",
    "# sns.heatmap(data=_gs_mets_norm.T, cmap='RdBu_r', center=0.0, #vmin=-0.01, vmax=0.01,\n",
    "#             yticklabels=True, xticklabels=True, ax=ax,\n",
    "#             cbar_kws={'label': 'normalised centrality control coefficient'})"
   ]
  },
  {
   "cell_type": "code",
   "execution_count": null,
   "metadata": {},
   "outputs": [],
   "source": [
    "rdf = pd.DataFrame(rdict, columns=['ko/wt'])\n",
    "rdf.index = rdf.index.map(gnames)"
   ]
  },
  {
   "cell_type": "code",
   "execution_count": null,
   "metadata": {},
   "outputs": [],
   "source": [
    "rdf"
   ]
  },
  {
   "cell_type": "code",
   "execution_count": null,
   "metadata": {},
   "outputs": [],
   "source": []
  },
  {
   "cell_type": "code",
   "execution_count": null,
   "metadata": {},
   "outputs": [],
   "source": [
    "fig, ax = plt.subplots(figsize=(25,2))\n",
    "sns.heatmap(data=np.log2(rdf[rdf.index.isin(_gs_mets_norm.index)].T), cmap='RdBu_r', center=0.0, ax=ax, cbar_kws={'label': 'log2(expression change)'})"
   ]
  },
  {
   "cell_type": "code",
   "execution_count": null,
   "metadata": {},
   "outputs": [],
   "source": [
    "for met in mets.fullName.unique():\n",
    "    sdict = gs.query(f'metabolites == \"{met}\"').groupby('metabolites').mean().T[met]\n",
    "    _df1 = pd.concat((sdict[sdict.index.isin(rdict.index)].abs(), abs(1-rdict)), axis=1)\n",
    "    print(met, _df1.corr(method='spearman').iloc[0, 1])"
   ]
  },
  {
   "cell_type": "code",
   "execution_count": null,
   "metadata": {},
   "outputs": [],
   "source": [
    "for met in mets.fullName.unique():\n",
    "    # print(met)\n",
    "    rxns = recon3d.get_reactions_from_metabolite(met)\n",
    "    rxns_gpr = list(set(rxns.abbreviation).intersection(set(recon3d.gpr.keys())))\n",
    "    mapped_gpr = {k:v for k,v in recon3d.gpr.items() if k in rxns_gpr}\n",
    "    genes = utility.get_genenumbers_from_rxn(gpr_dict=mapped_gpr)\n",
    "    sdict = gs.query(f'metabolites == \"{met}\"').groupby('metabolites').mean().T[met]\n",
    "    _df1 = pd.concat((sdict[sdict.index.isin(rdict.index)].abs(), abs(1-rdict)), axis=1)\n",
    "    print(met, _df1[_df1.index.isin(genes)].corr(method='spearman').iloc[0,1])"
   ]
  },
  {
   "cell_type": "code",
   "execution_count": null,
   "metadata": {},
   "outputs": [],
   "source": [
    "_df1[_df1.index.isin(genes)].sort_values('Control', ascending=False).corr(method='spearman').iloc[0,1]"
   ]
  },
  {
   "cell_type": "code",
   "execution_count": null,
   "metadata": {},
   "outputs": [],
   "source": [
    "sns.scatterplot(data= _df1[_df1.index.isin(genes)], x='Control', y='Expression')"
   ]
  },
  {
   "cell_type": "code",
   "execution_count": null,
   "metadata": {},
   "outputs": [],
   "source": [
    "import scipy.stats as stats\n",
    "\n",
    "def eval_gpr(gpr, model, weights):\n",
    "    \"\"\"\n",
    "    Evaluate GPRs with weights\n",
    "    :param model: cobra model\n",
    "    :type model: cobra.Model\n",
    "    :param weights: weights\n",
    "    :type weights: pd.DataFrame\n",
    "    :return: values\n",
    "    :rtype: pd.Series\n",
    "    \"\"\"\n",
    "    values = {}\n",
    "    for i in gpr.keys():\n",
    "        try:\n",
    "            values[i] = eval(utility.replace_and(gpr[i], weights))\n",
    "        except SyntaxError:\n",
    "            values[i] = 1.0\n",
    "    return values"
   ]
  },
  {
   "cell_type": "code",
   "execution_count": null,
   "metadata": {},
   "outputs": [],
   "source": [
    "\n",
    "values = eval_gpr(mapped_gpr, recon3d.model, sdict)\n",
    "values_df = eval_gpr(mapped_gpr, recon3d.model, rdict)"
   ]
  },
  {
   "cell_type": "code",
   "execution_count": null,
   "metadata": {},
   "outputs": [],
   "source": [
    "# sns.scatterplot(x=np.log2(list(values_df.values())), y=np.log2(list(values.values())))\n",
    "values"
   ]
  },
  {
   "cell_type": "code",
   "execution_count": null,
   "metadata": {},
   "outputs": [],
   "source": [
    "assert len(values_df) == len(values)\n",
    "values_df"
   ]
  },
  {
   "cell_type": "code",
   "execution_count": null,
   "metadata": {},
   "outputs": [],
   "source": []
  },
  {
   "cell_type": "code",
   "execution_count": null,
   "metadata": {},
   "outputs": [],
   "source": []
  }
 ],
 "metadata": {
  "kernelspec": {
   "display_name": "base",
   "language": "python",
   "name": "python3"
  },
  "language_info": {
   "codemirror_mode": {
    "name": "ipython",
    "version": 3
   },
   "file_extension": ".py",
   "mimetype": "text/x-python",
   "name": "python",
   "nbconvert_exporter": "python",
   "pygments_lexer": "ipython3",
   "version": "3.10.8"
  },
  "orig_nbformat": 4
 },
 "nbformat": 4,
 "nbformat_minor": 2
}
