{
 "cells": [
  {
   "cell_type": "code",
   "execution_count": null,
   "metadata": {},
   "outputs": [],
   "source": [
    "# -*- coding: utf-8 -*-\n",
    "import recon\n",
    "import plotting as plot\n",
    "import numpy as np\n",
    "import seaborn as sns\n",
    "import pandas as pd\n",
    "import utilities\n",
    "import workflows as wf\n",
    "import warnings\n",
    "warnings.filterwarnings('ignore')\n",
    "\n",
    "\n",
    "model = recon.Recon()\n",
    "util = utilities.Utilities()\n",
    "sns.set_context(\"talk\")"
   ]
  },
  {
   "cell_type": "markdown",
   "metadata": {},
   "source": [
    "### Metabolomics data"
   ]
  },
  {
   "cell_type": "code",
   "execution_count": null,
   "metadata": {},
   "outputs": [],
   "source": [
    "met_slc25a51ko = pd.read_csv('../data/metabolomics_slc25a51ko_vs_parental.csv', \n",
    "                             sep='\\t', index_col=0)\n",
    "met_uc = pd.read_csv('../data/metabolomics_uc_vs_healthy.csv', sep=',')"
   ]
  },
  {
   "cell_type": "markdown",
   "metadata": {},
   "source": [
    "### Predicted change"
   ]
  },
  {
   "cell_type": "code",
   "execution_count": null,
   "metadata": {},
   "outputs": [],
   "source": [
    "res_slc25a51ko = pd.read_csv('../data/pr_slc25a51ko_wt.csv', sep='\\t', index_col=0)\n",
    "res_slc25a51ko_pvalue = pd.read_csv('../data/pr_slc25a51ko_wt_pvalue.csv', sep='\\t', index_col=0)\n",
    "res_uc = pd.read_csv('../data/pr_prot_uc_vs_healthy.csv', sep='\\t', index_col=0)"
   ]
  },
  {
   "cell_type": "markdown",
   "metadata": {},
   "source": [
    "### RNA-Seq data"
   ]
  },
  {
   "cell_type": "code",
   "execution_count": null,
   "metadata": {},
   "outputs": [],
   "source": [
    "rna_slc25a51ko = pd.read_csv('../data/rnaseq_slc25a51ko_vs_parental.csv', sep='\\t', index_col=0)\n",
    "rna_slc25a51ko = util.map_gene(df=rna_slc25a51ko, g_mapping=model.genes, mapping_column='ensembl_gene')\n",
    "rna_slc25a51ko_pvalue = pd.read_csv('../data/rnaseq_slc25a51ko_vs_parental_pvalue.csv', index_col=0)\n",
    "rna_slc25a51ko_pvalue.index = rna_slc25a51ko_pvalue.index.astype('str')"
   ]
  },
  {
   "cell_type": "markdown",
   "metadata": {},
   "source": [
    "# Parity plots with standard deviation"
   ]
  },
  {
   "cell_type": "markdown",
   "metadata": {},
   "source": [
    "### Figure S1 (SLC25A51ko vs Parental)"
   ]
  },
  {
   "cell_type": "code",
   "execution_count": null,
   "metadata": {},
   "outputs": [],
   "source": [
    "res_HEK = util.reshape(res_slc25a51ko, include=None)\n",
    "# _res = res_HEK.groupby('metabolites').mean(numeric_only=True)\n",
    "_res = res_HEK[res_HEK.compartment.isin(['mitochondrial', 'nuclear', 'cytoplasm'])].groupby(\n",
    "    'metabolites').mean(numeric_only=True)\n",
    "_res_m = res_HEK[res_HEK.compartment == 'mitochondrial'].groupby(\n",
    "    'metabolites').mean(numeric_only=True)\n",
    "_res_n = res_HEK[res_HEK.compartment == 'nuclear'].groupby(\n",
    "    'metabolites').mean(numeric_only=True)\n",
    "_res_c = res_HEK[res_HEK.compartment == 'cytoplasm'].groupby(\n",
    "    'metabolites').mean(numeric_only=True)\n",
    "df_mean = wf.prep_data(model=model, rna=rna_slc25a51ko, mets=met_slc25a51ko, res=_res)\n",
    "df_m = wf.prep_data(model=model, rna=rna_slc25a51ko, mets=met_slc25a51ko, res=_res_m)\n",
    "df_n = wf.prep_data(model=model, rna=rna_slc25a51ko, mets=met_slc25a51ko, res=_res_n)\n",
    "df_c = wf.prep_data(model=model, rna=rna_slc25a51ko, mets=met_slc25a51ko, res=_res_c)"
   ]
  },
  {
   "cell_type": "code",
   "execution_count": null,
   "metadata": {},
   "outputs": [],
   "source": [
    "# Figure S1a\n",
    "_df = df[~df.index.isin(['D-Glucose', ])]\n",
    "plot.parity_with_errorbars(df=_df, xcolumn='Predicted', ycolumn='Measured',\n",
    "                        xerr_column='Predicted std_dev', yerr_column='Measured std_dev',\n",
    "                        figsize=(8,7), xlim=(-0.5, 0.5), ylim=(-3.5, 3.5),\n",
    "                        show_metabolite_names=True, show_percentage=True,\n",
    "                        l_p=[(0.05, 0.95), (0.6, 0.95), (0.05, 0.35), (0.6, 0.35)],\n",
    "                        l_n=[(0.15, 0.90), (0.6, 0.90), (0.05, 0.30), (0.6, 0.30)],\n",
    "                        save=False, filename=None,\n",
    "                        n_n=[1, 1, 2, 1])"
   ]
  },
  {
   "cell_type": "code",
   "execution_count": null,
   "metadata": {},
   "outputs": [],
   "source": [
    "for i, df in enumerate([df_m, df_c, df_n]):\n",
    "    _df = df[~df.index.isin(['D-Glucose', ])]\n",
    "    plot.parity_with_errorbars(df=_df, xcolumn='Predicted', ycolumn='Measured',\n",
    "                               xerr_column='Predicted std_dev', yerr_column='Measured std_dev',\n",
    "                               figsize=(8, 7), xlim=(-0.5, 0.5), ylim=(-3.5, 3.5),\n",
    "                               show_metabolite_names=True, show_percentage=True,\n",
    "                               l_p=[(0.05, 0.95), (0.6, 0.95), (0.05, 0.35), (0.6, 0.35)],\n",
    "                               l_n=[(0.15, 0.90), (0.6, 0.90), (0.05, 0.30), (0.6, 0.30)],\n",
    "                               save=False, filename=None, n_n=[1, 1, 2, 1])"
   ]
  },
  {
   "cell_type": "code",
   "execution_count": null,
   "metadata": {},
   "outputs": [],
   "source": []
  },
  {
   "cell_type": "markdown",
   "metadata": {},
   "source": [
    "### Figure S2"
   ]
  },
  {
   "cell_type": "code",
   "execution_count": null,
   "metadata": {},
   "outputs": [],
   "source": [
    "res_HEK = util.reshape(res_slc25a51ko_pvalue, include=None)\n",
    "# _res = res_HEK.groupby('metabolites').mean(numeric_only=True)\n",
    "_res = res_HEK[res_HEK.compartment.isin(['mitochondrial', 'nuclear', 'cytoplasm'])].groupby(\n",
    "    'metabolites').mean(numeric_only=True)\n",
    "_res_m = res_HEK[res_HEK.compartment == 'mitochondrial'].groupby(\n",
    "    'metabolites').mean(numeric_only=True)\n",
    "_res_n = res_HEK[res_HEK.compartment == 'nuclear'].groupby(\n",
    "    'metabolites').mean(numeric_only=True)\n",
    "_res_c = res_HEK[res_HEK.compartment == 'cytoplasm'].groupby(\n",
    "    'metabolites').mean(numeric_only=True)\n",
    "df_mean = wf.prep_data(model=model, rna=rna_slc25a51ko_pvalue,\n",
    "                       mets=met_slc25a51ko, res=_res)\n",
    "df_m = wf.prep_data(model=model, rna=rna_slc25a51ko_pvalue,\n",
    "                    mets=met_slc25a51ko, res=_res_m)\n",
    "df_n = wf.prep_data(model=model, rna=rna_slc25a51ko_pvalue,\n",
    "                    mets=met_slc25a51ko, res=_res_n)\n",
    "df_c = wf.prep_data(model=model, rna=rna_slc25a51ko_pvalue,\n",
    "                    mets=met_slc25a51ko, res=_res_c)"
   ]
  },
  {
   "cell_type": "code",
   "execution_count": null,
   "metadata": {},
   "outputs": [],
   "source": [
    "for i, df in enumerate([df_mean, df_m, df_c, df_n]):\n",
    "    _df = df[~df.index.isin(['D-Glucose', ])]\n",
    "    plot.parity_with_errorbars(df=_df, xcolumn='Predicted', ycolumn='Measured',\n",
    "                               xerr_column='Predicted std_dev', yerr_column='Measured std_dev',\n",
    "                               figsize=(8, 7), xlim=(-0.5, 0.5), ylim=(-3.5, 3.5),\n",
    "                               show_metabolite_names=True, show_percentage=True,\n",
    "                               l_p=[(0.05, 0.95), (0.6, 0.95),\n",
    "                                    (0.05, 0.35), (0.6, 0.35)],\n",
    "                               l_n=[(0.15, 0.90), (0.6, 0.90),\n",
    "                                    (0.05, 0.30), (0.6, 0.30)],\n",
    "                               save=False, filename=None, n_n=[1, 1, 2, 1])"
   ]
  },
  {
   "cell_type": "markdown",
   "metadata": {},
   "source": [
    "### Figure S3"
   ]
  },
  {
   "cell_type": "code",
   "execution_count": null,
   "metadata": {},
   "outputs": [],
   "source": [
    "df = util.reshape(res_uc).groupby('metabolites').mean(numeric_only=True).reset_index()\n",
    "df = met_uc.merge(df, right_on='metabolites', left_on='vmh', how='inner')\n",
    "df = df.set_index('metabolites').drop('vmh', axis=1)\n",
    "df.columns = ['p', 'padj', 'Measured', 'Predicted']\n",
    "df['hue'] = 'C1'\n",
    "df.loc[(df.p > 0.05), 'hue'] = 'grey'\n",
    "df.loc[(df.Predicted < 1.01) & (df.Predicted > 0.99), 'hue'] = 'grey'\n",
    "df.loc[(df.Measured < 1.2) & (df.Measured > 0.8), 'hue'] = 'grey'"
   ]
  },
  {
   "cell_type": "code",
   "execution_count": null,
   "metadata": {},
   "outputs": [],
   "source": [
    "import matplotlib.pyplot as plt\n",
    "xcolumn='Predicted'\n",
    "ycolumn='Measured'\n",
    "xlim=(-0.25, 0.25) \n",
    "ylim=(-3.5, 3.5)\n",
    "xlabel='log$_2$(predicted change)' \n",
    "ylabel='log$_2$(measured change)'\n",
    "l_p=[(0.1, 0.9), (0.6, 0.9), (0.1, 0.25), (0.6, 0.25)]\n",
    "            \n",
    "fig, ax = plt.subplots(figsize=(8,7))\n",
    "ax.scatter(x=np.log2(df[df.hue=='grey'][xcolumn]), y=np.log2(df[df.hue=='grey'][ycolumn]), \n",
    "        c='grey', alpha=0.3)\n",
    "ax.scatter(x=np.log2(df[df.hue!='grey'][xcolumn]), y=np.log2(df[df.hue!='grey'][ycolumn]), \n",
    "        c='C1', alpha=0.8)\n",
    "ax.axhline(y=0.0, c='k', ls='--')\n",
    "ax.axvline(x=0.0, c='k', ls='--')\n",
    "plt.xlim(xlim)\n",
    "plt.ylim(ylim)\n",
    "ax.set_xlabel(xlabel)\n",
    "ax.set_ylabel(ylabel)\n",
    "plot.add_percentage(df=df, ax=ax, colname2='Predicted', colname='Measured',\n",
    "                    show_sc_percentages=False, fsize=15, \n",
    "                    l=l_p[0], l2=l_p[1], l3=l_p[2], l4=l_p[3]\n",
    "                    )"
   ]
  },
  {
   "cell_type": "code",
   "execution_count": null,
   "metadata": {},
   "outputs": [],
   "source": []
  },
  {
   "cell_type": "code",
   "execution_count": null,
   "metadata": {},
   "outputs": [],
   "source": []
  }
 ],
 "metadata": {
  "kernelspec": {
   "display_name": "base",
   "language": "python",
   "name": "python3"
  },
  "language_info": {
   "codemirror_mode": {
    "name": "ipython",
    "version": 3
   },
   "file_extension": ".py",
   "mimetype": "text/x-python",
   "name": "python",
   "nbconvert_exporter": "python",
   "pygments_lexer": "ipython3",
   "version": "3.11.5"
  }
 },
 "nbformat": 4,
 "nbformat_minor": 2
}
