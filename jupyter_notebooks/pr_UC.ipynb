{
 "cells": [
  {
   "cell_type": "code",
   "execution_count": 1,
   "metadata": {},
   "outputs": [],
   "source": [
    "import warnings\n",
    "warnings.filterwarnings('ignore')\n",
    "\n",
    "import pandas as pd\n",
    "import numpy as np\n",
    "\n",
    "import pyreporter as pr\n",
    "import recon\n",
    "model = recon.recon.Recon()\n",
    "util = recon.utilities.Utilities()\n"
   ]
  },
  {
   "cell_type": "code",
   "execution_count": 2,
   "metadata": {},
   "outputs": [],
   "source": [
    "prot = pd.read_excel('../../data/UC/12014_2019_9224_MOESM2_ESM.xlsx', header=7)\n",
    "prot = prot[prot['Gene names'].isin(model.genes.symbol)][['Gene names', 'Ratio UC/H']]"
   ]
  },
  {
   "cell_type": "code",
   "execution_count": null,
   "metadata": {},
   "outputs": [],
   "source": [
    "_prot"
   ]
  },
  {
   "cell_type": "code",
   "execution_count": null,
   "metadata": {},
   "outputs": [],
   "source": [
    "_prot = util.map_gene(df=prot.groupby('Gene names').max(), g_mapping=model.genes, mapping_column='symbol')\n",
    "_prot['base'] = 1.0\n",
    "_prot = _prot.drop_duplicates().dropna()\n",
    "# _prot\n",
    "\n",
    "res = pr.workflows.workflow_Fang2012(cobra_model=model.model, mapped_genes_baseline=_prot['base'],\n",
    "                                          mapped_genes_comparison=_prot['Ratio UC/H'], gene_fill=1.0)"
   ]
  },
  {
   "cell_type": "code",
   "execution_count": null,
   "metadata": {},
   "outputs": [],
   "source": [
    "pd.DataFrame(res).to_csv('../../data/UC/pr_centrality_Schniers2019.csv')"
   ]
  },
  {
   "cell_type": "code",
   "execution_count": 3,
   "metadata": {},
   "outputs": [],
   "source": [
    "# Proteomics data\n",
    "proteomics = pd.read_csv('../../../reporter_metabolites/mapped_proteomics.csv', index_col='number')\n",
    "proteomics.index = proteomics.index.astype('str')\n",
    "proteomics['base'] = 1.0"
   ]
  },
  {
   "cell_type": "code",
   "execution_count": 4,
   "metadata": {},
   "outputs": [
    {
     "data": {
      "text/html": [
       "<div>\n",
       "<style scoped>\n",
       "    .dataframe tbody tr th:only-of-type {\n",
       "        vertical-align: middle;\n",
       "    }\n",
       "\n",
       "    .dataframe tbody tr th {\n",
       "        vertical-align: top;\n",
       "    }\n",
       "\n",
       "    .dataframe thead th {\n",
       "        text-align: right;\n",
       "    }\n",
       "</style>\n",
       "<table border=\"1\" class=\"dataframe\">\n",
       "  <thead>\n",
       "    <tr style=\"text-align: right;\">\n",
       "      <th></th>\n",
       "      <th>Unnamed: 0</th>\n",
       "      <th>log2FoldChange</th>\n",
       "      <th>padj</th>\n",
       "      <th>base</th>\n",
       "    </tr>\n",
       "    <tr>\n",
       "      <th>number</th>\n",
       "      <th></th>\n",
       "      <th></th>\n",
       "      <th></th>\n",
       "      <th></th>\n",
       "    </tr>\n",
       "  </thead>\n",
       "  <tbody>\n",
       "    <tr>\n",
       "      <th>10351.1</th>\n",
       "      <td>ABCA8</td>\n",
       "      <td>-1.113058</td>\n",
       "      <td>6.906275e-04</td>\n",
       "      <td>1.0</td>\n",
       "    </tr>\n",
       "    <tr>\n",
       "      <th>5243.1</th>\n",
       "      <td>ABCB1</td>\n",
       "      <td>-0.874997</td>\n",
       "      <td>2.344156e-05</td>\n",
       "      <td>1.0</td>\n",
       "    </tr>\n",
       "    <tr>\n",
       "      <th>8647.1</th>\n",
       "      <td>ABCB11</td>\n",
       "      <td>-1.092346</td>\n",
       "      <td>3.285012e-04</td>\n",
       "      <td>1.0</td>\n",
       "    </tr>\n",
       "    <tr>\n",
       "      <th>10449.1</th>\n",
       "      <td>ACAA2</td>\n",
       "      <td>-0.829147</td>\n",
       "      <td>2.477650e-06</td>\n",
       "      <td>1.0</td>\n",
       "    </tr>\n",
       "    <tr>\n",
       "      <th>38.1</th>\n",
       "      <td>ACAT1</td>\n",
       "      <td>-0.837336</td>\n",
       "      <td>1.011360e-07</td>\n",
       "      <td>1.0</td>\n",
       "    </tr>\n",
       "    <tr>\n",
       "      <th>...</th>\n",
       "      <td>...</td>\n",
       "      <td>...</td>\n",
       "      <td>...</td>\n",
       "      <td>...</td>\n",
       "    </tr>\n",
       "    <tr>\n",
       "      <th>7360.2</th>\n",
       "      <td>UGP2</td>\n",
       "      <td>-0.759488</td>\n",
       "      <td>2.177387e-05</td>\n",
       "      <td>1.0</td>\n",
       "    </tr>\n",
       "    <tr>\n",
       "      <th>79799.1</th>\n",
       "      <td>UGT2A3</td>\n",
       "      <td>-1.531056</td>\n",
       "      <td>3.225847e-07</td>\n",
       "      <td>1.0</td>\n",
       "    </tr>\n",
       "    <tr>\n",
       "      <th>7381.1</th>\n",
       "      <td>UQCRB</td>\n",
       "      <td>-0.632647</td>\n",
       "      <td>4.106313e-05</td>\n",
       "      <td>1.0</td>\n",
       "    </tr>\n",
       "    <tr>\n",
       "      <th>8875.1</th>\n",
       "      <td>VNN2</td>\n",
       "      <td>0.779873</td>\n",
       "      <td>7.906539e-02</td>\n",
       "      <td>1.0</td>\n",
       "    </tr>\n",
       "    <tr>\n",
       "      <th>7453.1</th>\n",
       "      <td>WARS</td>\n",
       "      <td>0.806522</td>\n",
       "      <td>1.001922e-04</td>\n",
       "      <td>1.0</td>\n",
       "    </tr>\n",
       "  </tbody>\n",
       "</table>\n",
       "<p>158 rows × 4 columns</p>\n",
       "</div>"
      ],
      "text/plain": [
       "        Unnamed: 0  log2FoldChange          padj  base\n",
       "number                                                \n",
       "10351.1      ABCA8       -1.113058  6.906275e-04   1.0\n",
       "5243.1       ABCB1       -0.874997  2.344156e-05   1.0\n",
       "8647.1      ABCB11       -1.092346  3.285012e-04   1.0\n",
       "10449.1      ACAA2       -0.829147  2.477650e-06   1.0\n",
       "38.1         ACAT1       -0.837336  1.011360e-07   1.0\n",
       "...            ...             ...           ...   ...\n",
       "7360.2        UGP2       -0.759488  2.177387e-05   1.0\n",
       "79799.1     UGT2A3       -1.531056  3.225847e-07   1.0\n",
       "7381.1       UQCRB       -0.632647  4.106313e-05   1.0\n",
       "8875.1        VNN2        0.779873  7.906539e-02   1.0\n",
       "7453.1        WARS        0.806522  1.001922e-04   1.0\n",
       "\n",
       "[158 rows x 4 columns]"
      ]
     },
     "execution_count": 4,
     "metadata": {},
     "output_type": "execute_result"
    }
   ],
   "source": [
    "proteomics"
   ]
  },
  {
   "cell_type": "code",
   "execution_count": 5,
   "metadata": {},
   "outputs": [],
   "source": [
    "res = pr.workflows.workflow_Fang2012(cobra_model=model.model, mapped_genes_baseline=proteomics['base'],\n",
    "                               mapped_genes_comparison=np.exp2(proteomics['log2FoldChange']), gene_fill=1.0)"
   ]
  },
  {
   "cell_type": "code",
   "execution_count": 6,
   "metadata": {},
   "outputs": [],
   "source": [
    "pd.Series(res).to_csv('../../data/UC_analyses/pr_centrality_proteomics_158p.csv', sep='\\t')"
   ]
  },
  {
   "cell_type": "code",
   "execution_count": null,
   "metadata": {},
   "outputs": [],
   "source": []
  },
  {
   "cell_type": "code",
   "execution_count": null,
   "metadata": {},
   "outputs": [],
   "source": [
    "import seaborn as sns\n",
    "import matplotlib.pyplot as plt\n",
    "def get_pca(df, n_components=2):\n",
    "    from sklearn.decomposition import PCA\n",
    "    pca = PCA(n_components=n_components)\n",
    "    pca.fit(df)\n",
    "    return pca.transform(df)\n",
    "\n",
    "def plot_pca(pca, df, ax, column='Intrinsic subtype (PAM50)', figtitle=None, \n",
    "             palette='Set2', fontsize=20, annotate=False):\n",
    "    if column is not None:\n",
    "        sp = sns.scatterplot(x=pca[:, 0], y=pca[:, 1], hue=df[column], palette=palette, ax=ax)\n",
    "    else:\n",
    "        sp = sns.scatterplot(x=pca[:, 0], y=pca[:, 1], ax=ax, palette=palette)\n",
    "    if annotate == True:\n",
    "        for i in range(pca.shape[0]):\n",
    "            ax.text(x=pca[i, 0]+0.3, y=pca[i, 1]+0.3, s=df.index[i]) \n",
    "    if figtitle:\n",
    "        sp.set_title(figtitle, fontsize=fontsize)\n",
    "    sp.set_xlabel('PC1')\n",
    "    sp.set_ylabel('PC2')\n",
    "    return sp"
   ]
  },
  {
   "cell_type": "code",
   "execution_count": null,
   "metadata": {},
   "outputs": [],
   "source": [
    "pca = get_pca(pdf)\n",
    "fig, ax = plt.subplots(figsize=(10, 10))\n",
    "plot_pca(pca, pdf, ax, column=None)"
   ]
  },
  {
   "cell_type": "code",
   "execution_count": null,
   "metadata": {},
   "outputs": [],
   "source": [
    "pdata = pd.read_csv('../data/UC_analyses/full_data/180820 Arve MQ and uniprot updated OxM AcNterm proteinGroups.txt', \n",
    "                    sep='\\t', index_col='Gene names')\n",
    "pnames = pd.read_csv('../data/UC_analyses/full_data/180120AS Arvesølvet sample names to MQ identifiers.csv', sep=',')\n",
    "\n",
    "def get_pdata(control, pdata=pdata, pnames=pnames):\n",
    "    pnames['pid'] = [i.split(' ')[1] for i in pnames['Sample name']]\n",
    "    _pnames = pnames[pnames.pid.isin(set([i.split(' ')[1] for i in control['ID from Proteomic run'].dropna()]) & set(pnames['pid']))]\n",
    "    cols = ['Reporter intensity corrected ' + ' '.join(i.split(' ')[-2:]) for i in _pnames['MaxQuant file identifier']]\n",
    "    p_control = util.map_gene(df=pdata[cols], g_mapping=model.genes, mapping_column='symbol')\n",
    "    return p_control\n",
    "\n",
    "mdata = pd.read_csv('../data/UC_analyses/metabolomics/Metabolomics meta data.csv', sep=',')\n",
    "mets = pd.read_csv('../data/UC_analyses/metabolites.csv', sep=',')\n",
    "control = mdata[mdata.Degree == 'C']\n",
    "mild = mdata[mdata.Degree == 'Mild']\n",
    "moderate = mdata[mdata.Degree == 'Moderate']\n",
    "severe = mdata[mdata.Degree == 'Severe']\n",
    "relapse = mdata[mdata.Degree == 'R']\n",
    "\n",
    "p_control = get_pdata(control, pdata)\n",
    "p_mild = get_pdata(mild, pdata)\n",
    "p_moderate = get_pdata(moderate, pdata)\n",
    "p_severe = get_pdata(severe, pdata)\n",
    "p_relapse = get_pdata(relapse, pdata)"
   ]
  },
  {
   "cell_type": "code",
   "execution_count": null,
   "metadata": {},
   "outputs": [],
   "source": [
    "pdf = pd.concat((p_mild, p_moderate, p_severe, p_relapse, p_control), axis=1)\n",
    "pdf = pdf[~(pdf == 0.0).all(axis=1)]\n",
    "pdf = pdf.reset_index().groupby('Gene names').max()\n",
    "# pdf.to_csv('../data/UC_analyses/mapped_proteomics_full.csv', sep='\\t')"
   ]
  },
  {
   "cell_type": "code",
   "execution_count": null,
   "metadata": {},
   "outputs": [],
   "source": [
    "_pdf = util.divide_all_columns_by_each_column(pdf)"
   ]
  },
  {
   "cell_type": "code",
   "execution_count": null,
   "metadata": {},
   "outputs": [],
   "source": [
    "cols = [i for i in _pdf.columns if i.split('_')[0] in p_severe.columns and i.split('_')[-1] in p_control.columns]\n",
    "_pdf_sc = _pdf[cols].replace(np.inf, np.nan).dropna(axis=0)\n",
    "_pdf_sc['base'] = 1.0\n",
    "print(f'Shape of _pdf_sc: {_pdf_sc.shape}')\n",
    "\n",
    "cols = [i for i in _pdf.columns if i.split('_')[0] in p_relapse.columns and i.split('_')[-1] in p_control.columns]\n",
    "_pdf_rc = _pdf[cols].replace(np.inf, np.nan).dropna(axis=0)\n",
    "_pdf_rc['base'] = 1.0\n",
    "print(f'Shape of _pdf_rc: {_pdf_rc.shape}')\n",
    "\n",
    "cols = [i for i in _pdf.columns if i.split('_')[0] in p_severe.columns and i.split('_')[-1] in p_moderate.columns]\n",
    "_pdf_smod = _pdf[cols].replace(np.inf, np.nan).dropna(axis=0)\n",
    "_pdf_smod['base'] = 1.0\n",
    "print(f'Shape of _pdf_smod: {_pdf_smod.shape}')\n",
    "\n",
    "cols = [i for i in _pdf.columns if i.split('_')[0] in p_severe.columns and i.split('_')[-1] in p_mild.columns]\n",
    "_pdf_smild = _pdf[cols].replace(np.inf, np.nan).dropna(axis=0)\n",
    "_pdf_smild['base'] = 1.0\n",
    "print(f'Shape of _pdf_smild: {_pdf_smild.shape}')\n",
    "\n",
    "cols = [i for i in _pdf.columns if i.split('_')[0] in p_mild.columns and i.split('_')[-1] in p_control.columns]\n",
    "_pdf_mc = _pdf[cols].replace(np.inf, np.nan).dropna(axis=0)\n",
    "_pdf_mc['base'] = 1.0\n",
    "print(f'Shape of _pdf_mc: {_pdf_mc.shape}')\n",
    "\n",
    "\n",
    "cols = [i for i in _pdf.columns if i.split('_')[0] in p_moderate.columns and i.split('_')[-1] in p_control.columns]\n",
    "_pdf_modc = _pdf[cols].replace(np.inf, np.nan).dropna(axis=0)\n",
    "_pdf_modc['base'] = 1.0\n",
    "print(f'Shape of _pdf_modc: {_pdf_modc.shape}')\n",
    "\n",
    "cols = [i for i in _pdf.columns if i.split('_')[0] in p_relapse.columns and i.split('_')[-1] in p_severe.columns]\n",
    "_pdf_rs = _pdf[cols].replace(np.inf, np.nan).dropna(axis=0)\n",
    "_pdf_rs['base'] = 1.0\n",
    "print(f'Shape of _pdf_rs: {_pdf_rs.shape}')"
   ]
  },
  {
   "cell_type": "code",
   "execution_count": null,
   "metadata": {},
   "outputs": [],
   "source": [
    "res = pd.DataFrame()\n",
    "for col in _pdf_rc.columns.difference(['base',]):\n",
    "    _res = pr.workflows.workflow_Fang2012(cobra_model=model.model, mapped_genes_baseline=_pdf_rc['base'],\n",
    "                                          mapped_genes_comparison=_pdf_rc[col], gene_fill=1.0)\n",
    "    res[col] = pd.Series(_res)\n",
    "res.to_csv('../data/UC_analyses/pr_centrality_proteomics_relapse_control.csv', sep='\\t')"
   ]
  },
  {
   "cell_type": "code",
   "execution_count": null,
   "metadata": {},
   "outputs": [],
   "source": []
  },
  {
   "cell_type": "code",
   "execution_count": null,
   "metadata": {},
   "outputs": [],
   "source": [
    "res.to_csv('../data/UC_analyses/pr_centrality_proteomics_severe_control.csv', sep='\\t')"
   ]
  },
  {
   "cell_type": "code",
   "execution_count": null,
   "metadata": {},
   "outputs": [],
   "source": [
    "res1 = pd.read_csv('../data/UC_analyses/pr_centrality_proteomics.csv', sep='\\t', index_col=0)\n",
    "res1 = util.divide_all_columns_by_each_column(res1)"
   ]
  },
  {
   "cell_type": "code",
   "execution_count": null,
   "metadata": {},
   "outputs": [],
   "source": [
    "res1[res.columns].to_csv('../data/UC_analyses/pr_centrality_proteomics_severe_control_1.csv', sep='\\t')"
   ]
  },
  {
   "cell_type": "code",
   "execution_count": null,
   "metadata": {},
   "outputs": [],
   "source": [
    "fig, ax = plt.subplots(figsize=(10,8))\n",
    "sns.kdeplot(data=np.log10(p_control), ax=ax)"
   ]
  },
  {
   "cell_type": "code",
   "execution_count": null,
   "metadata": {},
   "outputs": [],
   "source": [
    "# pd.concat((p_mild.mean(axis=1)/p_control.mean(axis=1),\n",
    "#            p_moderate.mean(axis=1)/p_control.mean(axis=1),\n",
    "#            p_severe.mean(axis=1)/p_control.mean(axis=1),\n",
    "#            p_relapse.mean(axis=1)/p_control.mean(axis=1)), axis=1)\n",
    "\n",
    "pdf = pd.concat((p_mild.mean(axis=1),\n",
    "                 p_moderate.mean(axis=1),\n",
    "                 p_severe.mean(axis=1),\n",
    "                 p_relapse.mean(axis=1),\n",
    "                 p_control.mean(axis=1)), axis=1)\n",
    "pdf.columns = ['mild', 'moderate', 'severe', 'relapse', 'control']\n",
    "pdf = pdf.div(pdf.control, axis=0)\n",
    "pdf = pdf.groupby(pdf.index).max().dropna(axis=0)\n"
   ]
  },
  {
   "cell_type": "code",
   "execution_count": null,
   "metadata": {},
   "outputs": [],
   "source": [
    "r1 = pr.workflows.workflow_Fang2012(cobra_model=recon.model, mapped_genes_baseline=pdf.control,\n",
    "                                      mapped_genes_comparison=p_control, gene_fill=1.0)\n"
   ]
  },
  {
   "cell_type": "code",
   "execution_count": null,
   "metadata": {},
   "outputs": [],
   "source": [
    "res = pd.DataFrame()\n",
    "for col in pdf.columns[:-1]:\n",
    "    _res = pr.workflows.workflow_Fang2012(cobra_model=recon.model, mapped_genes_baseline=pdf.control,\n",
    "                                          mapped_genes_comparison=pdf[col], gene_fill=1.0)\n",
    "    res = pd.concat((res, _res), axis=1)\n",
    "res.columns = pdf.columns[:-1]\n"
   ]
  },
  {
   "cell_type": "code",
   "execution_count": null,
   "metadata": {},
   "outputs": [],
   "source": [
    "sns.kdeplot(data=res)"
   ]
  },
  {
   "cell_type": "code",
   "execution_count": null,
   "metadata": {},
   "outputs": [],
   "source": [
    "gdata = pd.read_csv(\n",
    "    'C:/Users/ssh041/Downloads/transfer_250856_files_6667e22b/UC_analyses/geo_rna_seq/GSE109142/full_data_detailed.tsv', sep='\\t')\n"
   ]
  },
  {
   "cell_type": "code",
   "execution_count": null,
   "metadata": {},
   "outputs": [],
   "source": []
  },
  {
   "cell_type": "code",
   "execution_count": null,
   "metadata": {},
   "outputs": [],
   "source": [
    "\n",
    "\n"
   ]
  },
  {
   "cell_type": "code",
   "execution_count": null,
   "metadata": {},
   "outputs": [],
   "source": [
    "mdf = pd.concat((control[control.columns[7:]].mean(),\n",
    "                mild[mild.columns[7:]].mean(),\n",
    "                moderate[control.columns[7:]].mean(),\n",
    "                severe[control.columns[7:]].mean(),\n",
    "                relapse[control.columns[7:]].mean()), axis=1)\n",
    "mdf.columns = ['control', 'mild', 'moderate', 'severe', 'relapse']\n",
    "mdf = mdf.div(mdf.control, axis=0)\n",
    "mdf = mdf.groupby(mdf.index).max().dropna(axis=0)\n",
    "mdf"
   ]
  },
  {
   "cell_type": "code",
   "execution_count": null,
   "metadata": {},
   "outputs": [],
   "source": [
    "# mdf[mdf.index.str.contains('|'.join(recon.metabolites.fullName))]\n",
    "# recon.metabolites[recon.metabolites.fullName.str.contains(mdf.index[0].())]\n",
    "a = list(set([i.capitalize() for i in recon.metabolites.fullName]) & set(mdf.index))\n",
    "b = list(set([i.capitalize() for i in recon.metabolites.fullName]) & set([i.capitalize() for i in mdf.index]))\n",
    "c = list(set([i.lower() for i in recon.metabolites.fullName]) & set([i.lower() for i in mdf.index]))\n",
    "d = list(set([i.lower() for i in recon.metabolites.fullName]) & set([i for i in mdf.index]))\n",
    "# recon.metabolites[recon.metabolites.fullName.isin(list(set(a+b+c+d)))]\n",
    "# list(set(a+b+c+d))\n",
    "a\n"
   ]
  },
  {
   "cell_type": "code",
   "execution_count": null,
   "metadata": {},
   "outputs": [],
   "source": [
    "i_capitalize = {i: i for i in list(set(mdf.index) & set(recon.metabolites.fullName))}\n",
    "req_change = list(set(mdf.index) - set(recon.metabolites.fullName))\n",
    "for i in req_change:\n",
    "    if '-' in i:\n",
    "        i_capitalize[i] = '-'.join([i.split('-')\n",
    "                                       [0], i.split('-')[1].capitalize()])\n",
    "#     else:\n",
    "#         if i.capitalize() in recon.metabolites.fullName:\n",
    "#             i_capitalize[i] = i.capitalize()\n",
    "# remaining = list(set(mdf.index) - set(i_capitalize.keys()))\n",
    "# for m in list(set(['L-'+i for i in remaining]) & set(recon.metabolites.fullName)):\n",
    "#     i_capitalize[m[2:]] = m\n",
    "len(i_capitalize)\n"
   ]
  },
  {
   "cell_type": "code",
   "execution_count": null,
   "metadata": {},
   "outputs": [],
   "source": [
    "len(set(i_capitalize.values()) & set(recon.metabolites.fullName))"
   ]
  },
  {
   "cell_type": "code",
   "execution_count": null,
   "metadata": {},
   "outputs": [],
   "source": [
    "len(set(mdf.index))# & set(i_capitalize.keys()))\n",
    "\n"
   ]
  },
  {
   "cell_type": "code",
   "execution_count": null,
   "metadata": {},
   "outputs": [],
   "source": [
    "metabolomics = pd.read_csv(\n",
    "    '../../reporter_metabolites/mapped_metabolomics_curated.csv', sep=',')\n"
   ]
  },
  {
   "cell_type": "code",
   "execution_count": null,
   "metadata": {},
   "outputs": [],
   "source": [
    "metabolomics"
   ]
  },
  {
   "cell_type": "code",
   "execution_count": null,
   "metadata": {},
   "outputs": [],
   "source": []
  },
  {
   "cell_type": "markdown",
   "metadata": {},
   "source": []
  },
  {
   "cell_type": "code",
   "execution_count": null,
   "metadata": {},
   "outputs": [],
   "source": [
    "# recon.reactions[recon.reactions.formula.str.contains('ser_L')]\n",
    "\n",
    "# recon.reactions[recon.reactions.formula.str.contains('mthf')]\n",
    "# recon.reactions[recon.reactions.formula.str.contains('amet')]['subsystem'].unique()\n",
    "# recon.reactions[(recon.reactions.subsystem == 'Glycine, serine, alanine, and threonine metabolism') & (\n",
    "#     recon.reactions.formula.str.contains('mthf'))]\n",
    "\n",
    "# recon.reactions[recon.reactions.ecnumber=='2.1.1.13']\n",
    "\n",
    "# Glycine, serine, alanine, and threonine\n"
   ]
  },
  {
   "cell_type": "code",
   "execution_count": null,
   "metadata": {},
   "outputs": [],
   "source": [
    "def update_index(metabolomics):\n",
    "    mindex = []\n",
    "    for m in metabolomics.index:\n",
    "        if len(m.split('_'))>1:\n",
    "            mindex.append('_'.join([m.split('_')[0].lower(), m.split('_')[1]]))\n",
    "        else:\n",
    "            mindex.append(m.lower())\n",
    "\n",
    "    metabolomics.index = mindex\n",
    "    return metabolomics\n",
    "\n",
    "\n",
    "def update_index1(metabolomics):\n",
    "    mindex = []\n",
    "    for m in metabolomics.index:\n",
    "        if len(m.split('_')) > 1:\n",
    "            mindex.append('_'.join([m.split('_')[0], m.split('_')[1].upper()]))\n",
    "        else:\n",
    "            mindex.append(m.lower())\n",
    "\n",
    "    metabolomics.index = mindex\n",
    "    return metabolomics\n"
   ]
  },
  {
   "cell_type": "code",
   "execution_count": null,
   "metadata": {},
   "outputs": [],
   "source": [
    "# df = pd.read_csv('../data/predictions_uc_patients.csv', sep='\\t', index_col=0)\n",
    "pr = pd.read_csv('../data/pr_uc_patients.csv', sep='\\t', index_col=0)\n",
    "pr['vmh'] = [i[:-3].lower() for i in pr.index]\n",
    "pr['mets'] = [i for i in pr.index]\n",
    "metabolomics = pd.read_csv('../../reporter_metabolites/mapped_metabolomics_curated.csv', sep=',')\n"
   ]
  },
  {
   "cell_type": "code",
   "execution_count": null,
   "metadata": {},
   "outputs": [],
   "source": [
    "def plot_kde(pr, save=False, filename=None):\n",
    "    fig, ax = plt.subplots(figsize=(8, 6))\n",
    "    # sns.kdeplot(data=np.log2(pr['0']), ax=ax)\n",
    "    sns.histplot(data=np.log2(pr['0']), bins=10, ax=ax)\n",
    "    ax.set_yscale('log')\n",
    "    ax.axvline(0.0, linewidth=2.0, color='k', ls='--')\n",
    "    ax.set_xlabel('concentration change (log2)')\n",
    "    plt.xlim((-1, 1.))\n",
    "    plt.tight_layout()\n",
    "    if save == True:\n",
    "        return fig.savefig(filename, dpi=300)\n",
    "    else:\n",
    "        return plt.show()\n",
    "\n",
    "\n",
    "plot_kde(pr=pr, save=True, filename='../images/UC/histplot_uc_patients.png')\n"
   ]
  },
  {
   "cell_type": "code",
   "execution_count": null,
   "metadata": {},
   "outputs": [],
   "source": [
    "def map_metabolomics(metabolomics, pr):\n",
    "    metabolomics.vmh = metabolomics.vmh.str.lower()\n",
    "    print(f'mapped: {len(set([i.lower() for i in metabolomics.vmh]) & set([i.lower() for i in pr.vmh]))}')\n",
    "    print(f'missing: {len(set([i.lower() for i in metabolomics.vmh]) - set([i.lower() for i in pr.vmh]))}')\n",
    "    missing = list(set([i.lower() for i in metabolomics.vmh]) - set([i.lower() for i in pr.vmh]))\n",
    "    print(f'\\t{missing}')\n",
    "    m1 = pr.merge(metabolomics, left_on='vmh', right_on='vmh').set_index('mets')\n",
    "    m2 = u.reshape(m1)\n",
    "    m2 = m2.rename(columns={'0': 'prediction_proteomics', 'fc': 'metabolomics'})\n",
    "    m2['metabolomics'] = m2['metabolomics'].astype('float')\n",
    "    m2['prediction_proteomics'] = m2['prediction_proteomics'].astype('float')\n",
    "    return m2\n"
   ]
  },
  {
   "cell_type": "code",
   "execution_count": null,
   "metadata": {},
   "outputs": [],
   "source": [
    "p_crit = metabolomics.p < .05\n",
    "fc_crit = (metabolomics.fc > 1.2) | (metabolomics.fc < .8)\n",
    "metabolomics2 = metabolomics[p_crit & fc_crit]\n",
    "m2 = map_metabolomics(metabolomics=metabolomics2, pr=pr)\n",
    "\n",
    "m1 = map_metabolomics(metabolomics=metabolomics, pr=pr)\n"
   ]
  },
  {
   "cell_type": "code",
   "execution_count": null,
   "metadata": {},
   "outputs": [],
   "source": [
    "# len(recon.metabolites[recon.metabolites.abbreviation.isin(df.index)])\n",
    "df1 = pd.read_csv('../data/predictions_uc_patients.csv', sep='\\t', index_col=0)\n"
   ]
  },
  {
   "cell_type": "code",
   "execution_count": null,
   "metadata": {},
   "outputs": [],
   "source": [
    "proteomics = pd.read_csv('../../reporter_metabolites/mapped_proteomics.csv', index_col='number')\n",
    "proteomics.index = proteomics.index.astype('str')\n",
    "# gs = pd.read_csv('../data/recon/genes_sensitivity.tsv', sep='\\t', index_col=0)\n"
   ]
  },
  {
   "cell_type": "code",
   "execution_count": null,
   "metadata": {},
   "outputs": [],
   "source": [
    "cc = cs.calculate_cc(proteomics)\n",
    "cc1 = cs.calculate_cc(proteomics, grouping='cytoplasm')\n",
    "cc2 = cs.calculate_cc(proteomics, grouping='mitochondrial')\n"
   ]
  },
  {
   "cell_type": "code",
   "execution_count": null,
   "metadata": {},
   "outputs": [],
   "source": [
    "df = pd.concat((m2.groupby('metabolites').mean(),\n",
    "               cc[cc.index.isin(m2.metabolites)]), axis=1)\n",
    "df = df.rename(columns={0: 'control_coeff'})\n",
    "\n",
    "df1 = pd.concat((m2.groupby('metabolites').mean(),\n",
    "                 cc1[cc1.index.isin(m2.metabolites)]), axis=1)\n",
    "df1 = df1.rename(columns={0: 'control_coeff'})\n",
    "\n",
    "df2 = pd.concat((m2.groupby('metabolites').mean(),\n",
    "                 cc2[cc2.index.isin(m2.metabolites)]), axis=1)\n",
    "df2 = df2.rename(columns={0: 'control_coeff'})\n"
   ]
  },
  {
   "cell_type": "code",
   "execution_count": null,
   "metadata": {},
   "outputs": [],
   "source": [
    "df = cs.merged_data(cc_df=cc, m_df=m2, res_df=)"
   ]
  },
  {
   "cell_type": "code",
   "execution_count": null,
   "metadata": {},
   "outputs": [],
   "source": [
    "def plot_parity(data, xcolumn, ycolumn, figtitle=None, save=False,\n",
    "                filename=None, ub=0.5, cc=False):\n",
    "    fig, ax = plt.subplots(figsize=(8, 6))\n",
    "    if cc == True:\n",
    "        sc = ax.scatter(y=np.log2(data[ycolumn]), x=np.log2(\n",
    "            data[xcolumn]), c=data.control_coeff, cmap='Reds')\n",
    "        plt.colorbar(sc, label='confidence score ($\\Gamma$)',\n",
    "                    boundaries=np.linspace(0., ub, 5))\n",
    "    else:\n",
    "        sc = ax.scatter(y=np.log2(data[ycolumn]),\n",
    "                        x=np.log2(data[xcolumn]))\n",
    "    # ax.set_yscale('log')\n",
    "    ax.axhline(0.0, ls=\"--\", c=\"k\")\n",
    "    ax.axvline(0.0, ls=\"--\", c=\"k\")\n",
    "    ax.set_xlim((-3.0, 3.0))\n",
    "    ax.set_ylim((-0.3, 0.3))\n",
    "    data1 = pd.concat((data[ycolumn], data[xcolumn]), axis=1)\n",
    "    pl.add_percentage(data1, colname=ycolumn, colname2=xcolumn, ax=ax, show_sc_percentages=False,\n",
    "                      l=(0.05, 0.95), l2=(0.55, 0.95), l3=(0.05, 0.25), l4=(0.55, 0.25),\n",
    "                      fsize=15)\n",
    "    # pl.add_metabolite_names1(data1, colname=0, colname2=1, l=(0.05, 0.9), l2=(0.75, 0.95),\n",
    "    #                          l3=(0.05, 0.2), l4=(0.55, 0.2), n2=1, n4=2, ax=ax)\n",
    "    plt.xlabel('Measured concentration foldchange (log2)')\n",
    "    plt.ylabel('Predicted concentration foldchange (log2)')\n",
    "    plt.title(figtitle)\n",
    "    plt.tight_layout()\n",
    "    if save == True:\n",
    "        return fig.savefig(filename, dpi=300)\n",
    "    else:\n",
    "        return plt.show()\n"
   ]
  },
  {
   "cell_type": "code",
   "execution_count": null,
   "metadata": {},
   "outputs": [],
   "source": [
    "plot_parity(data=df.dropna(), xcolumn='metabolomics', ycolumn='prediction_proteomics', ub=0.6,\n",
    "            save=True, filename='../images/UC/parity_mean_UC_patients_pvalue_1.png')\n"
   ]
  },
  {
   "cell_type": "code",
   "execution_count": null,
   "metadata": {},
   "outputs": [],
   "source": [
    "plot_parity(data=df1.dropna(), xcolumn='metabolomics', ycolumn='prediction_proteomics', ub=0.4,\n",
    "            save=True, filename='../images/UC/parity_cytoplasm_UC_patients_pvalue.png')\n"
   ]
  },
  {
   "cell_type": "code",
   "execution_count": null,
   "metadata": {},
   "outputs": [],
   "source": [
    "plot_parity(data=df2.dropna(), xcolumn='metabolomics', ycolumn='prediction_proteomics', ub=0.6,\n",
    "            save=True, filename='../images/UC/parity_mitochondrial_UC_patients_pvalue.png')\n"
   ]
  },
  {
   "cell_type": "code",
   "execution_count": null,
   "metadata": {},
   "outputs": [],
   "source": []
  }
 ],
 "metadata": {
  "kernelspec": {
   "display_name": "base",
   "language": "python",
   "name": "python3"
  },
  "language_info": {
   "codemirror_mode": {
    "name": "ipython",
    "version": 3
   },
   "file_extension": ".py",
   "mimetype": "text/x-python",
   "name": "python",
   "nbconvert_exporter": "python",
   "pygments_lexer": "ipython3",
   "version": "3.11.5"
  },
  "orig_nbformat": 4,
  "vscode": {
   "interpreter": {
    "hash": "ad2bdc8ecc057115af97d19610ffacc2b4e99fae6737bb82f5d7fb13d2f2c186"
   }
  }
 },
 "nbformat": 4,
 "nbformat_minor": 2
}
