{
 "cells": [
  {
   "cell_type": "code",
   "execution_count": null,
   "metadata": {},
   "outputs": [],
   "source": [
    "import itertools\n",
    "import gemcat as gc\n",
    "import pandas as pd\n",
    "import numpy as np\n",
    "import recon\n",
    "import utilities\n",
    "import warnings\n",
    "warnings.filterwarnings('ignore')\n",
    "\n",
    "model = recon.Recon()\n",
    "util = utilities.Utilities()"
   ]
  },
  {
   "cell_type": "code",
   "execution_count": null,
   "metadata": {},
   "outputs": [],
   "source": [
    "def add_gene_to_rxn(cobra_model, rxn_id, gene_number):\n",
    "    '''\n",
    "    add gene to reaction\n",
    "    \n",
    "    Args:\n",
    "        cobra_model (cobra.Model): cobra model\n",
    "        rxn_id (str): reaction id\n",
    "        gene_number (str): gene number\n",
    "        \n",
    "    Returns:\n",
    "        cobra.Model: cobra model\n",
    "    '''\n",
    "    cobra_model.reactions.get_by_id(rxn_id).gene_reaction_rule = gene_number\n",
    "    return cobra_model"
   ]
  },
  {
   "cell_type": "code",
   "execution_count": null,
   "metadata": {},
   "outputs": [],
   "source": [
    "# Update model to add NAD transport reaction GPR with gene_number\n",
    "rxn_id = 'NADtm'\n",
    "gene_number = '6398.1'\n",
    "cmodel = add_gene_to_rxn(cobra_model=model.model, rxn_id=rxn_id, gene_number=gene_number)\n",
    "\n",
    "assert cmodel.reactions.get_by_id(rxn_id).gene_reaction_rule == gene_number, f\"No GPR with {gene_number} exists in reaction {rxn_id}\""
   ]
  },
  {
   "cell_type": "code",
   "execution_count": null,
   "metadata": {},
   "outputs": [],
   "source": [
    "def diff_exp(rna, wt, ko):\n",
    "    df = pd.DataFrame()\n",
    "    for i in itertools.product(wt, ko):\n",
    "        df[i[1]+'_'+i[0]] = rna[i[1]].div(rna[i[0]], axis=0)\n",
    "    df['base'] = 1.0\n",
    "    return df"
   ]
  },
  {
   "cell_type": "markdown",
   "metadata": {},
   "source": [
    "## Predictions (based on RNA-Seq)"
   ]
  },
  {
   "cell_type": "code",
   "execution_count": null,
   "metadata": {},
   "outputs": [],
   "source": [
    "rna = pd.read_csv('../../biomarker_predictions/data/NAD_cell_lines/gene_fpkm.xls.csv')\n",
    "rna.loc[:, 'ensemble_id'] = rna['gene_id']\n",
    "rna = util.map_gene(df=rna.set_index('gene_id'), g_mapping=model.genes,\n",
    "                    mapping_column='ensembl_gene')\n",
    "rna = rna[rna.columns[rna.columns.str.contains('HEK25a51ko|wtHEK|gene_name|gene_id|ensemble_id')]]"
   ]
  },
  {
   "cell_type": "code",
   "execution_count": null,
   "metadata": {},
   "outputs": [],
   "source": [
    "rna_ko = rna.filter(regex='HEK25a51ko')\n",
    "rna_wt = rna.filter(regex='wtHEK')\n",
    "rna_oe = rna.filter(regex='HEK25A51oe')"
   ]
  },
  {
   "cell_type": "code",
   "execution_count": null,
   "metadata": {},
   "outputs": [],
   "source": [
    "df_ko_wt = diff_exp(rna=rna, wt=rna_wt.columns, ko=rna_ko.columns)\n",
    "df_ko_wt = df_ko_wt.dropna().replace(0.0, 1.0)\n",
    "df_ko_wt"
   ]
  },
  {
   "cell_type": "code",
   "execution_count": null,
   "metadata": {},
   "outputs": [],
   "source": [
    "# Simulate SLC25A51 knockout\n",
    "_df_ko_wt = df_ko_wt.T\n",
    "_df_ko_wt.loc[_df_ko_wt.index == 'base', '6398.1'] = 1.0\n",
    "_df_ko_wt.loc[_df_ko_wt.index != 'base', '6398.1'] = 0.0\n",
    "df_ko_wt = _df_ko_wt.T"
   ]
  },
  {
   "cell_type": "code",
   "execution_count": null,
   "metadata": {},
   "outputs": [],
   "source": [
    "df_ko_wt"
   ]
  },
  {
   "cell_type": "code",
   "execution_count": null,
   "metadata": {},
   "outputs": [],
   "source": [
    "res = pd.DataFrame()\n",
    "for col in df_ko_wt.columns.difference(['base']):\n",
    "    _res = gc.workflows.workflow_standard(cobra_model=model.model, mapped_genes_baseline=df_ko_wt['base'],\n",
    "                                          mapped_genes_comparison=df_ko_wt[col], gene_fill=1.0)\n",
    "    res[col] = _res"
   ]
  },
  {
   "cell_type": "code",
   "execution_count": null,
   "metadata": {},
   "outputs": [],
   "source": []
  },
  {
   "cell_type": "markdown",
   "metadata": {},
   "source": [
    "## Only integrate significantly changed genes"
   ]
  },
  {
   "cell_type": "code",
   "execution_count": null,
   "metadata": {},
   "outputs": [],
   "source": [
    "import scipy.stats as stats\n",
    "pvalue = {}\n",
    "for gene in rna_ko.index:\n",
    "    pvalue[gene] = stats.ttest_ind(\n",
    "        rna_ko.loc[gene], rna_wt.loc[gene], nan_policy='omit')[1]\n",
    "    \n",
    "_rna = pd.concat((rna_wt, rna_ko,\n",
    "                  pd.DataFrame.from_dict(pvalue, orient='index', columns=['pvalue'])), axis=1)\n",
    "_rna = _rna[_rna['pvalue'] < 0.05]"
   ]
  },
  {
   "cell_type": "code",
   "execution_count": null,
   "metadata": {},
   "outputs": [],
   "source": [
    "_rna"
   ]
  },
  {
   "cell_type": "code",
   "execution_count": null,
   "metadata": {},
   "outputs": [],
   "source": [
    "df_ko_wt = diff_exp(rna=_rna, wt=rna_wt.columns, ko=rna_ko.columns)\n",
    "df_ko_wt = df_ko_wt.replace([np.inf, -np.inf], np.nan).dropna(axis=0)\n",
    "df_ko_wt = df_ko_wt.dropna().replace(0.0, 1.0)"
   ]
  },
  {
   "cell_type": "code",
   "execution_count": null,
   "metadata": {},
   "outputs": [],
   "source": [
    "# df_ko_wt.to_csv('../data/rnaseq_slc25a51ko_vs_parental_pvalue.csv')"
   ]
  },
  {
   "cell_type": "code",
   "execution_count": null,
   "metadata": {},
   "outputs": [],
   "source": [
    "_df_ko_wt = df_ko_wt.T\n",
    "_df_ko_wt.loc[_df_ko_wt.index == 'base', '6398.1'] = 1.0\n",
    "_df_ko_wt.loc[_df_ko_wt.index != 'base', '6398.1'] = 0.0\n",
    "df_ko_wt = _df_ko_wt.T"
   ]
  },
  {
   "cell_type": "code",
   "execution_count": null,
   "metadata": {},
   "outputs": [],
   "source": [
    "df_ko_wt"
   ]
  },
  {
   "cell_type": "code",
   "execution_count": null,
   "metadata": {},
   "outputs": [],
   "source": [
    "res = pd.DataFrame()\n",
    "for col in df_ko_wt.columns.difference(['base']):\n",
    "    _res = gc.workflows.workflow_standard(cobra_model=model.model, mapped_genes_baseline=df_ko_wt['base'],\n",
    "                                          mapped_genes_comparison=df_ko_wt[col], gene_fill=1.0)\n",
    "    res[col] = _res"
   ]
  },
  {
   "cell_type": "code",
   "execution_count": null,
   "metadata": {},
   "outputs": [],
   "source": []
  }
 ],
 "metadata": {
  "kernelspec": {
   "display_name": "Python 3.9.7 ('base')",
   "language": "python",
   "name": "python3"
  },
  "language_info": {
   "codemirror_mode": {
    "name": "ipython",
    "version": 3
   },
   "file_extension": ".py",
   "mimetype": "text/x-python",
   "name": "python",
   "nbconvert_exporter": "python",
   "pygments_lexer": "ipython3",
   "version": "3.11.5"
  },
  "orig_nbformat": 4,
  "vscode": {
   "interpreter": {
    "hash": "ad2bdc8ecc057115af97d19610ffacc2b4e99fae6737bb82f5d7fb13d2f2c186"
   }
  }
 },
 "nbformat": 4,
 "nbformat_minor": 2
}
