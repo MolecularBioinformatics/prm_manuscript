{
 "cells": [
  {
   "cell_type": "code",
   "execution_count": null,
   "metadata": {},
   "outputs": [],
   "source": [
    "# -*- coding: utf-8 -*-\n",
    "import recon\n",
    "import plotting as plot\n",
    "import numpy as np\n",
    "import matplotlib.pyplot as plt\n",
    "import seaborn as sns\n",
    "import pandas as pd\n",
    "import utilities\n",
    "import warnings\n",
    "warnings.filterwarnings('ignore')\n",
    "\n",
    "\n",
    "model = recon.Recon()\n",
    "util = utilities.Utilities()\n",
    "\n",
    "sns.set_style('white')\n",
    "sns.set_style('ticks')"
   ]
  },
  {
   "cell_type": "markdown",
   "metadata": {},
   "source": [
    "## UC analyses"
   ]
  },
  {
   "cell_type": "code",
   "execution_count": null,
   "metadata": {},
   "outputs": [],
   "source": [
    "# Proteomics data\n",
    "proteomics = pd.read_csv('../data/proteomics_uc_vs_healthy.csv', index_col='number')\n",
    "proteomics.index = proteomics.index.astype('str')\n",
    "\n",
    "# Predicted centrality\n",
    "pr = pd.read_csv('../data/pr_centrality_proteomics_158p.csv', sep='\\t', index_col=0)\n",
    "pr['vmh'] = [i[:-3].lower() for i in pr.index]\n",
    "pr['mets'] = [i for i in pr.index]\n",
    "\n",
    "# Metabolomics data\n",
    "metabolomics = pd.read_csv('../data/metabolomics_uc_vs_healthy.csv', sep=',')\n",
    "metabolomics.vmh = metabolomics.vmh.str.lower()\n",
    "for col in metabolomics.columns.difference(['vmh', ]):\n",
    "    metabolomics.loc[:, col] = metabolomics.loc[:, col].astype(float)\n",
    "metabolomics.head()"
   ]
  },
  {
   "cell_type": "code",
   "execution_count": null,
   "metadata": {},
   "outputs": [],
   "source": [
    "len(metabolomics)\n",
    "# p_crit = metabolomics.p < .05\n",
    "# fc_crit = (metabolomics.fc > 1.2) | (metabolomics.fc < .8) \n",
    "# metabolomics = metabolomics[p_crit & fc_crit]\n",
    "# len(metabolomics)"
   ]
  },
  {
   "cell_type": "code",
   "execution_count": null,
   "metadata": {},
   "outputs": [],
   "source": [
    "cc = util.calculate_cc(g_df=proteomics)\n",
    "cc_m = util.calculate_cc(g_df=proteomics, grouping='mitochondrial')\n",
    "cc_c = util.calculate_cc(g_df=proteomics, grouping='cytoplasm')"
   ]
  },
  {
   "cell_type": "code",
   "execution_count": null,
   "metadata": {},
   "outputs": [],
   "source": [
    "sns.set_context(\"talk\")\n",
    "\n",
    "plot.hist(pr=np.log2(pr.mean(axis=1)), \n",
    "          save=True, filename='../../images/UC/histplot_uc_patients_proteomics_1.svg', \n",
    "          figsize=(8,7), xlim=(-1., 1.), bins=22, color='C1', ylim=(0, 2e4),\n",
    "          xlabel='log$_2$(predicted change)', ylabel='no. of metabolites')"
   ]
  },
  {
   "cell_type": "code",
   "execution_count": null,
   "metadata": {},
   "outputs": [],
   "source": [
    "def map_metabolomics(metabolomics, pr):\n",
    "    print(f'mapped: {len(set([i.lower() for i in metabolomics.vmh]) & set([i.lower() for i in pr.vmh]))}')\n",
    "    print(f'missing: {len(set([i.lower() for i in metabolomics.vmh]) - set([i.lower() for i in pr.vmh]))}')\n",
    "    missing = list(set([i.lower() for i in metabolomics.vmh]) - set([i.lower() for i in pr.vmh]))\n",
    "    print(f'\\t{missing}')\n",
    "    m1 = pr.merge(metabolomics, left_on='vmh', right_on='vmh').set_index('mets')\n",
    "    m2 = util.reshape(m1, include=None)\n",
    "    m2 = m2.rename(columns={'0': 'prediction_proteomics', 0: 'prediction_proteomics', 'fc': 'metabolomics'})\n",
    "    m2['p'] = m2['p'].astype('float')\n",
    "    m2['metabolomics'] = m2['metabolomics'].astype('float')\n",
    "    m2['prediction_proteomics'] = m2['prediction_proteomics'].astype('float')\n",
    "    return m2"
   ]
  },
  {
   "cell_type": "code",
   "execution_count": null,
   "metadata": {},
   "outputs": [],
   "source": [
    "met = metabolomics.copy()\n",
    "m1 = map_metabolomics(metabolomics=met, pr=pr)\n",
    "p_crit = met.p < .05\n",
    "fc_crit = (met.fc > 1.2) | (met.fc < .8)\n",
    "metabolomics2 = met[p_crit & fc_crit]\n",
    "m2 = map_metabolomics(metabolomics=metabolomics2, pr=pr)"
   ]
  },
  {
   "cell_type": "code",
   "execution_count": null,
   "metadata": {},
   "outputs": [],
   "source": []
  },
  {
   "cell_type": "code",
   "execution_count": null,
   "metadata": {},
   "outputs": [],
   "source": [
    "# m2.groupby('metabolites').mean()\n",
    "# m1 = m1[m1.p < .05]\n",
    "# df = pd.concat((m1[m1.compartment == 'cytoplasm'].groupby('metabolites').mean(), cc), axis=1).dropna()\n",
    "# df = pd.concat((m1[m1.compartment == 'mitochondrial'].groupby('metabolites').mean(), cc_m), axis=1).dropna()\n",
    "# df = pd.concat((m1[m1.compartment.isin(['mitochondrial', 'cytoplasm', 'nuclear'])].groupby('metabolites').mean(), cc), axis=1).dropna()\n",
    "df = pd.concat((m1[m1.compartment != 'extracellular'].groupby('metabolites').mean(numeric_only=True), cc), axis=1).dropna()\n",
    "df = df.rename(columns={0: 'control_coeff'})\n",
    "# df['hue'] = 'C1'\n",
    "# df.loc[(df.p > 0.05), 'hue'] = 'grey'\n",
    "# df.loc[(df.prediction_proteomics < 1.01) & (df.prediction_proteomics > 0.99), 'hue'] = 'grey'\n",
    "# df.loc[(df.metabolomics < 1.2) & (df.metabolomics > 0.8), 'hue'] = 'grey'\n",
    "\n",
    "import utility\n",
    "coverage = {}\n",
    "for met in df.index:\n",
    "    try:\n",
    "        coverage[met] = 100*len(proteomics.index.intersection(utility.get_genes_from_metabolite(model, met)))/len(utility.get_genes_from_metabolite(model, met))\n",
    "    except ZeroDivisionError:\n",
    "        coverage[met] = 0.0\n",
    "df['coverage (%)'] = pd.Series(coverage)"
   ]
  },
  {
   "cell_type": "code",
   "execution_count": null,
   "metadata": {},
   "outputs": [],
   "source": [
    "df.to_csv('../data/Supplementary_Table_S2.csv', sep='\\t', float_format='%.3f')"
   ]
  },
  {
   "cell_type": "code",
   "execution_count": null,
   "metadata": {},
   "outputs": [],
   "source": [
    "df = df.reset_index()\n",
    "df.columns = ['Metabolite name', 'Predicted', 'Measured', 'p', 'Control coeff', 'Coverage (%)']"
   ]
  },
  {
   "cell_type": "code",
   "execution_count": null,
   "metadata": {},
   "outputs": [],
   "source": [
    "df.to_csv('../data/Supplementary_Table_S2.csv', sep='\\t', float_format='%.3f')"
   ]
  },
  {
   "cell_type": "code",
   "execution_count": null,
   "metadata": {},
   "outputs": [],
   "source": [
    "sns.set_context('talk')\n",
    "fig, ax = plt.subplots(figsize=(8,7))\n",
    "ax.scatter(x=np.log2(df[df.hue=='grey']['prediction_proteomics']), y=np.log2(df[df.hue=='grey']['metabolomics']), \n",
    "           c='grey', alpha=0.3)\n",
    "ax.scatter(x=np.log2(df[df.hue!='grey']['prediction_proteomics']), y=np.log2(df[df.hue!='grey']['metabolomics']), \n",
    "           c='C1', alpha=0.8)\n",
    "ax.axhline(y=0.0, c='k', ls='--')\n",
    "ax.axvline(x=0.0, c='k', ls='--')\n",
    "plt.xlim(-0.25, 0.25)\n",
    "plt.ylim(-3.5, 3.5)\n",
    "ax.set_xlabel('log$_2$(predicted change)')\n",
    "ax.set_ylabel('log$_2$(measured change)')\n",
    "\n",
    "# plot.add_percentage(df=df, ax=ax, colname='prediction_proteomics', colname2='metabolomics',\n",
    "#                     show_sc_percentages=False, fsize=15,\n",
    "#                     l=(0.1, 0.9), l2=(0.7, 0.9), l3=(0.1, 0.3), l4=(0.7, 0.3))\n",
    "plot.add_percentage(df=df[df.hue!='grey'], ax=ax, colname2='prediction_proteomics', colname='metabolomics',\n",
    "                    show_sc_percentages=False, fsize=15,\n",
    "                    l=(0.02, 0.95), l2=(0.52, 0.95), l3=(0.02, 0.25), l4=(0.52, 0.25))\n",
    "plot.add_metabolite_names1(df=df[df.hue!='grey'], ax=ax, colname='prediction_proteomics', colname2='metabolomics', \n",
    "                           fsize=10, l=(0.15, 0.95), l2=(0.65, 0.95), l3=(0.15, 0.25), l4=(0.65, 0.25),\n",
    "                           )\n",
    "fig.savefig('../../images/UC/UC_metabolomics_vs_proteomics_1.png', bbox_inches='tight', dpi=300)\n",
    "fig.savefig('../../images/UC/UC_metabolomics_vs_proteomics_1.svg', bbox_inches='tight')\n"
   ]
  },
  {
   "cell_type": "code",
   "execution_count": null,
   "metadata": {},
   "outputs": [],
   "source": []
  },
  {
   "cell_type": "code",
   "execution_count": null,
   "metadata": {},
   "outputs": [],
   "source": [
    "_df = df.loc[(df.p < 0.05)].drop(['p', 'control_coeff', 'hue'], axis=1).rename(columns={'metabolomics':'measured change', 'prediction_proteomics':'predicted change'})\n",
    "_df.loc[(_df['predicted change'] > 1.0) & (_df['measured change'] > 1.0), 'quadrant'] = 'UR'\n",
    "_df.loc[(_df['predicted change'] < 1.0) & (_df['measured change'] > 1.0), 'quadrant'] = 'UL'\n",
    "_df.loc[(_df['predicted change'] < 1.0) & (_df['measured change'] < 1.0), 'quadrant'] = 'LL'\n",
    "_df.loc[(_df['predicted change'] > 1.0) & (_df['measured change'] < 1.0), 'quadrant'] = 'LR'\n",
    "_df #= _df.merge(mets, left_on=_df.index, right_on='metabolite').set_index('metabolite')\n",
    "# _df#.reset_index().to_excel('../manuscript/results_uc_patients.xlsx', index=False)"
   ]
  },
  {
   "cell_type": "code",
   "execution_count": null,
   "metadata": {},
   "outputs": [],
   "source": [
    "_coverage = pd.read_excel('../../manuscript/results_uc_patients.xlsx')"
   ]
  },
  {
   "cell_type": "code",
   "execution_count": null,
   "metadata": {},
   "outputs": [],
   "source": [
    "model.gs.to_excel('../../manuscript/control_coefficients.xlsx')"
   ]
  },
  {
   "cell_type": "code",
   "execution_count": null,
   "metadata": {},
   "outputs": [],
   "source": [
    "sns.scatterplot(data=_coverage, x='number of rxns with gpr', y='number of rxns with mapped gpr', hue='quadrant')\n",
    "# _coverage.columns"
   ]
  },
  {
   "cell_type": "code",
   "execution_count": null,
   "metadata": {},
   "outputs": [],
   "source": []
  },
  {
   "cell_type": "code",
   "execution_count": null,
   "metadata": {},
   "outputs": [],
   "source": [
    "sns.set_context('talk')\n",
    "sns.set_style('ticks')\n",
    "# df = pd.concat((m2.groupby('metabolites').mean(), cc), axis=1).dropna()\n",
    "# df = df.rename(columns={0: 'control_coeff'})\n",
    "_df = df.copy()\n",
    "# df = df[~df.index.str.contains(\"arnitine\")]\n",
    "_df = df.loc[(df.p < 0.05)]\n",
    "_df = _df[(_df['metabolomics'] > 1.2) | (_df['metabolomics'] < 0.8)]\n",
    "_df = _df[(_df['prediction_proteomics'] > 1.01) | (_df['prediction_proteomics'] < 0.99)]\n",
    "\n",
    "plot.parity(data=_df, xcolumn='metabolomics', ycolumn='prediction_proteomics', cc=False, \n",
    "            figsize=(10, 8), save=True, filename='../../images/UC/parity_UC_patients_proteomics_158p.png',\n",
    "            ylabel='log$_2$(measured change)', xlabel='log$_2$(predicted change)', color='C1',\n",
    "            edgecolor=None,\n",
    "            show_percentage=True, show_names=True, ub=0.8, lb=0.0, nb=5, cbar_cmap='Oranges',\n",
    "            n=[1, 1, 1, 1], fsize=9, ylim=(-2.5, 2.5), xlim=(-0.25, 0.25), alpha=1.0,\n",
    "            l_p=[(0.05, 0.95), (0.55, 0.95), (0.05, 0.25), (0.55, 0.25)],\n",
    "            l_n=[(0.05, 0.9), (0.65, 0.95), (0.05, 0.2), (0.65, 0.25)]\n",
    "            )\n",
    "\n",
    "plot.parity(data=_df, xcolumn='metabolomics', ycolumn='prediction_proteomics', cc=True, cc_column='control_coeff', \n",
    "            figsize=(8, 7), save=True, filename='../../images/UC/parity_UC_patients_proteomics_158p_probability.png',\n",
    "            ylabel='log$_2$(measured change)', xlabel='log$_2$(predicted change)', color='C1',\n",
    "            show_percentage=True, show_names=True, ub=0.5, lb=0.0, nb=6, cbar_cmap='Reds',\n",
    "            n=[1, 1, 1, 1], fsize=9, ylim=(-3.5, 3.5), xlim=(-0.25, 0.25), alpha=1.0,\n",
    "            l_p=[(0.05, 0.95), (0.55, 0.95), (0.05, 0.25), (0.55, 0.25)],\n",
    "            l_n=[(0.05, 0.9), (0.65, 0.95), (0.05, 0.2), (0.65, 0.25)]\n",
    "            )\n",
    "\n",
    "plot.parity(data=_df, xcolumn='metabolomics', ycolumn='prediction_proteomics', \n",
    "            cc=True, cc_column='coverage', cbar_label='coverage of metabolic genes by proteomics',\n",
    "            figsize=(8, 6), save=True, filename='../../images/UC/parity_UC_patients_proteomics_158p_coverageProteomics.png',\n",
    "            ylabel='log$_2$(measured change)', xlabel='log$_2$(predicted change)', color='C1',\n",
    "            show_percentage=True, show_names=True, ub=0.8, lb=0.0, nb=5, cbar_cmap='Blues',\n",
    "            n=[1, 1, 1, 1], fsize=9, ylim=(-3.5, 3.5), xlim=(-0.25, 0.25), alpha=1.0,\n",
    "            l_p=[(0.05, 0.95), (0.55, 0.95), (0.05, 0.25), (0.55, 0.25)],\n",
    "            l_n=[(0.05, 0.9), (0.65, 0.95), (0.05, 0.2), (0.65, 0.25)]\n",
    "            )"
   ]
  },
  {
   "cell_type": "code",
   "execution_count": null,
   "metadata": {},
   "outputs": [],
   "source": []
  },
  {
   "cell_type": "code",
   "execution_count": null,
   "metadata": {},
   "outputs": [],
   "source": []
  },
  {
   "cell_type": "code",
   "execution_count": null,
   "metadata": {},
   "outputs": [],
   "source": [
    "sns.set_context('talk')\n",
    "for comp in m1.compartment.unique():\n",
    "    df = pd.concat((m1[m1.compartment==comp].groupby('metabolites').mean(), cc), axis=1).dropna()\n",
    "    df = df.rename(columns={0: 'control_coeff'})\n",
    "    _df = df.loc[(df.p < 0.05)]\n",
    "    _df = _df[(_df['metabolomics'] > 1.2) | (_df['metabolomics'] < 0.8)]\n",
    "    _df = _df[(_df['prediction_proteomics'] > 1.02) | (_df['prediction_proteomics'] < 0.98)]\n",
    "    if len(_df) > 0:\n",
    "        if comp == 'cytoplasm':\n",
    "            ftitle = 'cytoplasmic'\n",
    "        else:\n",
    "            ftitle = f'{comp}'\n",
    "        plot.parity(data=_df, xcolumn='metabolomics', ycolumn='prediction_proteomics', cc=False, \n",
    "                figsize=(8, 6), save=True, filename=f'../images/UC/UC_metabolomics_vs_proteomics_{comp}.png',\n",
    "                show_percentage=True, show_names=True, ub=0.4, lb=0.0,\n",
    "                n=[1, 1, 1, 1], fsize=10, ylim=(-2.5, 2.5), xlim=(-0.25, 0.25),\n",
    "                l_p=[(0.05, 0.95), (0.62, 0.95), (0.05, 0.25), (0.68, 0.25)],\n",
    "                l_n=[(0.05, 0.9), (0.62, 0.9), (0.05, 0.2), (0.68, 0.2)],\n",
    "                figtitle=ftitle)\n",
    "    else:\n",
    "        print(f'skipping {comp} as no metabolites are significant')\n",
    "        print(f'{comp}: {len(_df)}')\n",
    "   "
   ]
  },
  {
   "cell_type": "code",
   "execution_count": null,
   "metadata": {},
   "outputs": [],
   "source": []
  }
 ],
 "metadata": {
  "kernelspec": {
   "display_name": "base",
   "language": "python",
   "name": "python3"
  },
  "language_info": {
   "codemirror_mode": {
    "name": "ipython",
    "version": 3
   },
   "file_extension": ".py",
   "mimetype": "text/x-python",
   "name": "python",
   "nbconvert_exporter": "python",
   "pygments_lexer": "ipython3",
   "version": "3.11.5"
  },
  "orig_nbformat": 4
 },
 "nbformat": 4,
 "nbformat_minor": 2
}
