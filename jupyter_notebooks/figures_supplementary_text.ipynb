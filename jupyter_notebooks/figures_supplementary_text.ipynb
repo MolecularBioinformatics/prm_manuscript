{
 "cells": [
  {
   "cell_type": "code",
   "execution_count": null,
   "metadata": {},
   "outputs": [],
   "source": [
    "import recon\n",
    "import plotting as plot\n",
    "import numpy as np\n",
    "import seaborn as sns\n",
    "import pandas as pd\n",
    "import utilities\n",
    "import workflows as wf\n",
    "import warnings\n",
    "warnings.filterwarnings('ignore')\n",
    "\n",
    "\n",
    "model = recon.Recon()\n",
    "util = utilities.Utilities()"
   ]
  },
  {
   "cell_type": "markdown",
   "metadata": {},
   "source": [
    "### Metabolomics data"
   ]
  },
  {
   "cell_type": "code",
   "execution_count": null,
   "metadata": {},
   "outputs": [],
   "source": [
    "mets_hek = pd.read_csv('../data/metabolomics_HEK293.csv',\n",
    "                       sep='\\t', index_col=0)\n",
    "met_slc25a51ko = pd.read_csv('../data/metabolomics_slc25a51ko_vs_parental.csv', \n",
    "                             sep='\\t', index_col=0)\n",
    "met_uc = pd.read_csv('../data/metabolomics_uc_vs_healthy.csv', sep=',')"
   ]
  },
  {
   "cell_type": "markdown",
   "metadata": {},
   "source": [
    "### Predicted change"
   ]
  },
  {
   "cell_type": "code",
   "execution_count": null,
   "metadata": {},
   "outputs": [],
   "source": [
    "res_slc25a51ko = pd.read_csv('../data/pr_slc25a51ko_wt.csv', sep='\\t', index_col=0)\n",
    "res_slc25a51ko_pvalue = pd.read_csv('../data/pr_slc25a51ko_wt_pvalue.csv', sep='\\t', index_col=0)\n",
    "res_uc = pd.read_csv('../data/pr_prot_uc_vs_healthy.csv', sep='\\t', index_col=0)"
   ]
  },
  {
   "cell_type": "markdown",
   "metadata": {},
   "source": [
    "### RNA-Seq data"
   ]
  },
  {
   "cell_type": "code",
   "execution_count": null,
   "metadata": {},
   "outputs": [],
   "source": [
    "rna_slc25a51ko = pd.read_csv('../data/rnaseq_slc25a51ko_vs_parental.csv', sep='\\t', index_col=0)\n",
    "rna_slc25a51ko = util.map_gene(df=rna_slc25a51ko, g_mapping=model.genes, mapping_column='ensembl_gene')\n",
    "rna_slc25a51ko_pvalue = pd.read_csv('../data/rnaseq_slc25a51ko_vs_parental_pvalue.csv', index_col=0)\n",
    "rna_slc25a51ko_pvalue.index = rna_slc25a51ko_pvalue.index.astype('str')"
   ]
  },
  {
   "cell_type": "markdown",
   "metadata": {},
   "source": [
    "# Parity plots with standard deviation"
   ]
  },
  {
   "cell_type": "markdown",
   "metadata": {},
   "source": [
    "### Figure S1 (SLC25A51ko vs Parental)"
   ]
  },
  {
   "cell_type": "code",
   "execution_count": null,
   "metadata": {},
   "outputs": [],
   "source": [
    "def prep_data(mets, res):\n",
    "    df = pd.concat((mets.mean(axis=1), res.mean(axis=1),\n",
    "                    mets.std(axis=1), res.std(axis=1)), axis=1).dropna()\n",
    "    df.columns = ['Measured', 'Predicted', 'Measured std_dev',\n",
    "                  'Predicted std_dev']\n",
    "    return df\n",
    "def rename_index(df):\n",
    "    df = df.rename(index={'Adenosine monophosphate': 'AMP',\n",
    "                          'Adenosine triphosphate': 'ATP',\n",
    "                          'Cyclic AMP': 'cAMP',\n",
    "                          '2,3-Diphosphoglyceric acid': '2,3-DPG',\n",
    "                          '6-Phosphogluconic acid': '6PG',\n",
    "                          'D-Sedoheptulose 7-phosphate': 'S7P',\n",
    "                          'Fructose 1,6-bisphosphate': 'F16BP',\n",
    "                          'Fructose 6-phosphate': 'F6P',\n",
    "                          'Glucose 1-phosphate': 'G1P',\n",
    "                          'Glucose 6-phosphate': 'G6P',\n",
    "                          'Phosphoenolpyruvic acid': 'PEP',\n",
    "                          'S-Adenosylmethionine': 'SAM',\n",
    "                          'N-Acetyl-L-aspartic acid': 'NAA',\n",
    "                          'Hydroxykynurenine': '3OHKYN'})\n",
    "    return df"
   ]
  },
  {
   "cell_type": "code",
   "execution_count": null,
   "metadata": {},
   "outputs": [],
   "source": [
    "# with consistent metabolite names\n",
    "# res_HEK = util.get_consistent_mets(res_slc25a51ko)\n",
    "res_HEK = res_slc25a51ko.copy()\n",
    "res_HEK = util.reshape(res_HEK, include=None)\n",
    "\n",
    "_res = res_HEK[res_HEK.compartment.isin(['mitochondrial', 'nuclear', 'cytoplasm'])].groupby(\n",
    "    'metabolites').mean(numeric_only=True)\n",
    "_res_m = res_HEK[res_HEK.compartment == 'mitochondrial'].groupby(\n",
    "    'metabolites').mean(numeric_only=True)\n",
    "_res_n = res_HEK[res_HEK.compartment == 'nuclear'].groupby(\n",
    "    'metabolites').mean(numeric_only=True)\n",
    "_res_c = res_HEK[res_HEK.compartment == 'cytoplasm'].groupby(\n",
    "    'metabolites').mean(numeric_only=True)\n",
    "df_mean = prep_data(mets=met_slc25a51ko, res=_res)\n",
    "df_m = prep_data(mets=met_slc25a51ko, res=_res_m)\n",
    "df_n = prep_data(mets=met_slc25a51ko, res=_res_n)\n",
    "df_c = prep_data(mets=met_slc25a51ko, res=_res_c)"
   ]
  },
  {
   "cell_type": "code",
   "execution_count": null,
   "metadata": {},
   "outputs": [],
   "source": [
    "TS1 = pd.concat((df_mean, mets_hek['pvalue']), axis=1).dropna()\n",
    "TS1 = TS1.rename(index={'ADP': 'Adenosine diphosphate'})\n",
    "TS1 = TS1.reset_index().rename(columns={'index': 'Metabolite name'})\n",
    "TS1.to_csv('../Supplementary_Table_S1.csv',\n",
    "           index=False, sep='\\t', float_format='%.3f')"
   ]
  },
  {
   "cell_type": "code",
   "execution_count": null,
   "metadata": {},
   "outputs": [],
   "source": [
    "# Figure S1b, c, d\n",
    "sns.set_context('talk', font_scale=0.8)\n",
    "\n",
    "suffix = ['a', 'b', 'c', 'd']\n",
    "for i, df in enumerate([df_mean, df_m, df_c, df_n]):\n",
    "    _df = rename_index(df[~df.index.isin(['D-Glucose', 'Nicotinic acid'])])\n",
    "    plot.parity_with_errorbars(df=_df, xcolumn='Predicted', ycolumn='Measured',\n",
    "                               xerr_column='Predicted std_dev', yerr_column='Measured std_dev',\n",
    "                               figsize=(8, 7), show_metabolite_names=True, show_percentage=True,\n",
    "                               fsize=12, xlim=(-0.5, 0.5), ylim=(-3.5, 3.5),\n",
    "                               l_p=[(0.2, 0.95), (0.6, 0.95), (0.02, 0.35), (0.6, 0.35)],\n",
    "                               l_n=[(0.2, 0.90), (0.6, 0.90), (0.02, 0.30), (0.6, 0.30)],\n",
    "                               n_n=[1, 2, 2, 2], save=False, filename=None)"
   ]
  },
  {
   "cell_type": "markdown",
   "metadata": {},
   "source": [
    "## Figure S2"
   ]
  },
  {
   "cell_type": "code",
   "execution_count": null,
   "metadata": {},
   "outputs": [],
   "source": [
    "# Figure S2a\n",
    "sns.set_context('talk', font_scale=1.0)\n",
    "\n",
    "_df = df_mean[df_mean.index.isin(mets_hek[mets_hek.pvalue < 0.05].index)]\n",
    "_df = rename_index(_df[~_df.index.isin(['D-Glucose', 'Nicotinic acid'])])\n",
    "plot.parity_with_errorbars(df=_df, xcolumn='Predicted', ycolumn='Measured',\n",
    "                           xerr_column='Predicted std_dev', yerr_column='Measured std_dev',\n",
    "                           figsize=(8, 7), show_metabolite_names=True, show_percentage=True,\n",
    "                           fsize=12, xlim=(-0.5, 0.5), ylim=(-3.5, 3.5),\n",
    "                           l_p=[(0.2, 0.95), (0.7, 0.95), (0.05, 0.35), (0.7, 0.35)],\n",
    "                           l_n=[(0.2, 0.90), (0.7, 0.90), (0.05, 0.30), (0.7, 0.30)],\n",
    "                           n_n=[1, 1, 2, 1], save=False, filename=None)"
   ]
  },
  {
   "cell_type": "code",
   "execution_count": null,
   "metadata": {},
   "outputs": [],
   "source": [
    "\n"
   ]
  },
  {
   "cell_type": "code",
   "execution_count": null,
   "metadata": {},
   "outputs": [],
   "source": [
    "# Figure S2b\n",
    "sns.set_context('talk', font_scale=1.0)\n",
    "res_HEK = util.get_consistent_mets(res_slc25a51ko)\n",
    "res_HEK = util.reshape(res_HEK, include=None)\n",
    "\n",
    "_res = res_HEK[res_HEK.compartment.isin(['mitochondrial', 'nuclear', 'cytoplasm'])].groupby(\n",
    "    'metabolites').mean(numeric_only=True)\n",
    "df_mean = prep_data(mets=met_slc25a51ko, res=_res)\n",
    "\n",
    "_df = df_mean[df_mean.index.isin(mets_hek[mets_hek.pvalue < 0.05].index)]\n",
    "_df = rename_index(_df[~_df.index.isin(['D-Glucose', 'Nicotinic acid'])])\n",
    "plot.parity_with_errorbars(df=_df, xcolumn='Predicted', ycolumn='Measured',\n",
    "                           xerr_column='Predicted std_dev', yerr_column='Measured std_dev',\n",
    "                           figsize=(8, 7), show_metabolite_names=True, show_percentage=True,\n",
    "                           fsize=12, xlim=(-0.5, 0.5), ylim=(-3.5, 3.5),\n",
    "                           l_p=[(0.2, 0.95), (0.7, 0.95), (0.05, 0.35), (0.7, 0.35)],\n",
    "                           l_n=[(0.2, 0.90), (0.7, 0.90), (0.05, 0.30), (0.7, 0.30)],\n",
    "                           n_n=[1, 1, 2, 1], save=False, filename=None)"
   ]
  },
  {
   "cell_type": "code",
   "execution_count": null,
   "metadata": {},
   "outputs": [],
   "source": [
    "# Figure S2c\n",
    "sns.set_context('talk', font_scale=1.0)\n",
    "res_HEK = util.reshape(res_slc25a51ko_pvalue, include=None)\n",
    "_res = res_HEK[res_HEK.compartment.isin(['mitochondrial', 'nuclear', 'cytoplasm'])].groupby(\n",
    "    'metabolites').mean(numeric_only=True)\n",
    "df_mean = prep_data(mets=met_slc25a51ko, res=_res)\n",
    "_df = df_mean.copy()\n",
    "_df = rename_index(_df[~_df.index.isin(['D-Glucose', 'Nicotinic acid'])])\n",
    "plot.parity_with_errorbars(df=_df, xcolumn='Predicted', ycolumn='Measured',\n",
    "                           xerr_column='Predicted std_dev', yerr_column='Measured std_dev',\n",
    "                           figsize=(8, 7), xlim=(-0.5, 0.5), ylim=(-3.5, 3.5),\n",
    "                           show_metabolite_names=True, show_percentage=True,\n",
    "                           l_p=[(0.2, 0.95), (0.6, 0.95), (0.05, 0.37), (0.6, 0.37)],\n",
    "                           l_n=[(0.2, 0.90), (0.6, 0.90), (0.05, 0.32), (0.6, 0.32)],\n",
    "                           save=False, filename=None, n_n=[1, 2, 2, 2], fsize=12)"
   ]
  },
  {
   "cell_type": "code",
   "execution_count": null,
   "metadata": {},
   "outputs": [],
   "source": [
    "# Figure S2d\n",
    "sns.set_context('talk', font_scale=1.0)\n",
    "_df = df_mean[df_mean.index.isin(mets_hek[mets_hek.pvalue < 0.05].index)]\n",
    "_df = rename_index(_df[~_df.index.isin(['D-Glucose', 'Nicotinic acid'])])\n",
    "plot.parity_with_errorbars(df=_df, xcolumn='Predicted', ycolumn='Measured',\n",
    "                           xerr_column='Predicted std_dev', yerr_column='Measured std_dev',\n",
    "                           figsize=(8, 7), show_metabolite_names=True, show_percentage=True,\n",
    "                           fsize=12, xlim=(-0.5, 0.5), ylim=(-3.5, 3.5),\n",
    "                           l_p=[(0.2, 0.95), (0.7, 0.95), (0.2, 0.35), (0.7, 0.35)],\n",
    "                           l_n=[(0.2, 0.90), (0.7, 0.90), (0.2, 0.30), (0.7, 0.30)],\n",
    "                           n_n=[1, 1, 1, 1], save=True, filename=None)"
   ]
  },
  {
   "cell_type": "code",
   "execution_count": null,
   "metadata": {},
   "outputs": [],
   "source": []
  },
  {
   "cell_type": "code",
   "execution_count": null,
   "metadata": {},
   "outputs": [],
   "source": [
    "# Figure S2e\n",
    "# with consistent metabolite names\n",
    "res_HEK = util.get_consistent_mets(res_slc25a51ko_pvalue)\n",
    "res_HEK = util.reshape(res_HEK, include=None)\n",
    "\n",
    "_res = res_HEK[res_HEK.compartment.isin(['mitochondrial', 'nuclear', 'cytoplasm'])].groupby(\n",
    "    'metabolites').mean(numeric_only=True)\n",
    "df_mean = prep_data(mets=met_slc25a51ko, res=_res)"
   ]
  },
  {
   "cell_type": "code",
   "execution_count": null,
   "metadata": {},
   "outputs": [],
   "source": [
    "# _df = df_mean.copy()\n",
    "_df = df_mean[df_mean.index.isin(mets_hek[mets_hek.pvalue < 0.05].index)]\n",
    "_df = rename_index(_df[~_df.index.isin(['D-Glucose', 'Nicotinic acid'])])\n",
    "plot.parity_with_errorbars(df=_df, xcolumn='Predicted', ycolumn='Measured',\n",
    "                           xerr_column='Predicted std_dev', yerr_column='Measured std_dev',\n",
    "                           figsize=(8, 7), show_metabolite_names=True, show_percentage=True,\n",
    "                           fsize=12, xlim=(-0.5, 0.5), ylim=(-3.5, 3.5),\n",
    "                           l_p=[(0.2, 0.95), (0.7, 0.95),\n",
    "                                (0.2, 0.35), (0.7, 0.35)],\n",
    "                           l_n=[(0.2, 0.90), (0.7, 0.90),\n",
    "                                (0.2, 0.30), (0.7, 0.30)],\n",
    "                           save=False, filename=None, n_n=[1, 1, 1, 1])"
   ]
  },
  {
   "cell_type": "markdown",
   "metadata": {},
   "source": [
    "### Figure S3"
   ]
  },
  {
   "cell_type": "code",
   "execution_count": null,
   "metadata": {},
   "outputs": [],
   "source": [
    "df = util.reshape(res_uc).groupby('metabolites').mean(numeric_only=True).reset_index()\n",
    "df = met_uc.merge(df, right_on='metabolites', left_on='vmh', how='inner')\n",
    "df = df.set_index('metabolites').drop('vmh', axis=1)\n",
    "df.columns = ['p', 'padj', 'Measured', 'Predicted']\n",
    "df['hue'] = 'C1'\n",
    "df.loc[(df.p > 0.05), 'hue'] = 'grey'\n",
    "df.loc[(df.Predicted < 1.01) & (df.Predicted > 0.99), 'hue'] = 'grey'"
   ]
  },
  {
   "cell_type": "code",
   "execution_count": null,
   "metadata": {},
   "outputs": [],
   "source": [
    "TS2 = df.reset_index().rename(columns={'metabolites': 'Metabolite name', 'p': 'p-value'})\n",
    "TS2.drop(['padj', 'hue'], axis=1).to_csv('../Supplementary_Table_S2.csv',\n",
    "                                  index=False, sep='\\t', float_format='%.3f')"
   ]
  },
  {
   "cell_type": "code",
   "execution_count": null,
   "metadata": {},
   "outputs": [],
   "source": [
    "sns.set_context('talk', font_scale=1.0)\n",
    "import matplotlib.pyplot as plt\n",
    "xcolumn='Predicted'\n",
    "ycolumn='Measured'\n",
    "xlim=(-0.25, 0.25) \n",
    "ylim=(-3.5, 3.5)\n",
    "xlabel='log$_2$(predicted change)' \n",
    "ylabel='log$_2$(measured change)'\n",
    "l_p=[(0.1, 0.9), (0.6, 0.9), (0.1, 0.25), (0.6, 0.25)]\n",
    "            \n",
    "fig, ax = plt.subplots(figsize=(8,7))\n",
    "ax.scatter(x=np.log2(df[df.hue=='grey'][xcolumn]), y=np.log2(df[df.hue=='grey'][ycolumn]), \n",
    "        c='grey', alpha=0.3)\n",
    "ax.scatter(x=np.log2(df[df.hue!='grey'][xcolumn]), y=np.log2(df[df.hue!='grey'][ycolumn]), \n",
    "        c='C1', alpha=0.8)\n",
    "ax.axhline(y=0.0, c='k', ls='--')\n",
    "ax.axvline(x=0.0, c='k', ls='--')\n",
    "plt.xlim(xlim)\n",
    "plt.ylim(ylim)\n",
    "ax.set_xlabel(xlabel)\n",
    "ax.set_ylabel(ylabel)\n",
    "plot.add_percentage(df=df, ax=ax, colname2='Predicted', colname='Measured',\n",
    "                    show_sc_percentages=False, fsize=15, \n",
    "                    l=l_p[0], l2=l_p[1], l3=l_p[2], l4=l_p[3]\n",
    "                    )"
   ]
  },
  {
   "cell_type": "code",
   "execution_count": null,
   "metadata": {},
   "outputs": [],
   "source": []
  },
  {
   "cell_type": "code",
   "execution_count": null,
   "metadata": {},
   "outputs": [],
   "source": []
  }
 ],
 "metadata": {
  "kernelspec": {
   "display_name": "base",
   "language": "python",
   "name": "python3"
  },
  "language_info": {
   "codemirror_mode": {
    "name": "ipython",
    "version": 3
   },
   "file_extension": ".py",
   "mimetype": "text/x-python",
   "name": "python",
   "nbconvert_exporter": "python",
   "pygments_lexer": "ipython3",
   "version": "3.11.5"
  }
 },
 "nbformat": 4,
 "nbformat_minor": 2
}
