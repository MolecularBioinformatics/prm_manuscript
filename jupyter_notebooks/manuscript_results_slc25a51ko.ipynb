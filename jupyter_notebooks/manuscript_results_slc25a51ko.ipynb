{
 "cells": [
  {
   "cell_type": "code",
   "execution_count": null,
   "metadata": {},
   "outputs": [],
   "source": [
    "# -*- coding: utf-8 -*-\n",
    "import recon\n",
    "import plotting as plot\n",
    "import numpy as np\n",
    "import matplotlib.pyplot as plt\n",
    "import seaborn as sns\n",
    "import pandas as pd\n",
    "import utilities\n",
    "import warnings\n",
    "warnings.filterwarnings('ignore')\n",
    "\n",
    "\n",
    "model = recon.Recon()\n",
    "util = utilities.Utilities()\n",
    "\n",
    "sns.set_style('white')\n",
    "sns.set_style('ticks')"
   ]
  },
  {
   "cell_type": "markdown",
   "metadata": {},
   "source": [
    "## Metabolomics data"
   ]
  },
  {
   "cell_type": "code",
   "execution_count": null,
   "metadata": {},
   "outputs": [],
   "source": [
    "mets = pd.read_csv('../data/metabolomics_slc25a51ko_vs_parental.csv', sep='\\t', index_col=0)"
   ]
  },
  {
   "cell_type": "code",
   "execution_count": null,
   "metadata": {},
   "outputs": [],
   "source": [
    "from matplotlib.lines import Line2D\n",
    "def scatter_with_errorbar(xdata, ydata, xerr, yerr, ax, colors=None, x='WT_Car',\n",
    "                          y='KO_Car', figtitle_suffix=' (RNAseq)',\n",
    "                          legend_loc='upper right', compartment=False,\n",
    "                          xlabel='Measured metabolomics foldchange (log2)',\n",
    "                          ylabel='Predicted foldchange (log2)', cmap=None,\n",
    "                          fig_title=False, xlim=(-3.5, 3.5), ylim=(-3.5, 3.5)):\n",
    "    \"\"\"Creates scatter plot with error bars\n",
    "\n",
    "    Args:\n",
    "        xdata (pandas.series): data on x-axis\n",
    "        ydata (pandas.series): data on y-axis\n",
    "        xerr (list): _description_\n",
    "        yerr (list): _description_\n",
    "        ax (_type_): _description_\n",
    "        colors (_type_, optional): _description_. Defaults to None.\n",
    "        x (str, optional): _description_. Defaults to 'WT_Car'.\n",
    "        y (str, optional): _description_. Defaults to 'KO_Car'.\n",
    "        figtitle_suffix (str, optional): _description_. Defaults to ' (RNAseq)'.\n",
    "        legend_loc (str, optional): _description_. Defaults to 'upper right'.\n",
    "        compartment (bool, optional): _description_. Defaults to False.\n",
    "    \"\"\"\n",
    "    if compartment == True:\n",
    "        legend_elements = [Line2D([0], [0], marker='o', color='w', label='cytoplasm',\n",
    "                                  markerfacecolor='r', markersize=15),\n",
    "                           Line2D([0], [0], marker='o', color='w', label='mitochondrial',\n",
    "                                  markerfacecolor='g', markersize=15),\n",
    "                           Line2D([0], [0], marker='o', color='w', label='nuclear',\n",
    "                                  markerfacecolor='b', markersize=15)]\n",
    "\n",
    "        ax.scatter(xdata, ydata, zorder=3, c=colors, cmap=cmap)\n",
    "        ax.errorbar(xdata, ydata, yerr=yerr, xerr=xerr,\n",
    "                    fmt=\"o\", ecolor=colors, cmap=cmap)\n",
    "        ax.legend(handles=legend_elements, loc=legend_loc)\n",
    "    else:\n",
    "        sc = ax.errorbar(xdata, ydata, yerr=yerr, xerr=xerr,\n",
    "                         fmt=\"o\", cmap=cmap, ecolor=colors)\n",
    "        # plt.colorbar(sc)\n",
    "    ax.axhline(0.0, ls=\"--\", c=\"k\")\n",
    "    ax.axvline(0.0, ls=\"--\", c=\"k\")\n",
    "    if fig_title == True:\n",
    "        ax.set_title(y+' vs '+x+figtitle_suffix)\n",
    "    ax.set_xlabel(xlabel)\n",
    "    ax.set_ylabel(ylabel)\n",
    "    ax.set_xlim(xlim)\n",
    "    ax.set_ylim(ylim)\n",
    "    return ax"
   ]
  },
  {
   "cell_type": "markdown",
   "metadata": {},
   "source": [
    "## HEK293 cells (SLC25A51 knockout vs WT)"
   ]
  },
  {
   "cell_type": "markdown",
   "metadata": {},
   "source": [
    "### Predictions based on RNA-Seq"
   ]
  },
  {
   "cell_type": "code",
   "execution_count": null,
   "metadata": {},
   "outputs": [],
   "source": [
    "rna = pd.read_csv('../data/rnaseq_slc25a51ko_vs_parental.csv',\n",
    "                  sep='\\t', index_col=0)\n",
    "rna = util.map_gene(df=rna, g_mapping=model.genes,\n",
    "                    mapping_column='ensembl_gene')\n",
    "# rna = rna[(rna != 0.0).all(axis=1)]\n",
    "rna"
   ]
  },
  {
   "cell_type": "code",
   "execution_count": null,
   "metadata": {},
   "outputs": [],
   "source": [
    "# res_HEK = pd.read_csv('../../data/NAD_cell_lines/pr_slc25a51ko_wt_pvalue.csv', sep='\\t', index_col=0)\n",
    "res_HEK = pd.read_csv('../data/pr_slc25a51ko_wt.csv', sep='\\t', index_col=0)\n"
   ]
  },
  {
   "cell_type": "code",
   "execution_count": null,
   "metadata": {},
   "outputs": [],
   "source": [
    "sns.set_context(\"talk\")\n",
    "plot.hist(pr=np.log2(res_HEK.mean(axis=1)), bins=11, figsize=(5, 3), xlim=(-1.0, 1.0), \n",
    "          ylim=(0, 2e4), \n",
    "          xlabel='', ylabel='no. of metabolites',\n",
    "          save=False, filename='../../images/NAD_cell_lines/SLC25A51ko/histplot_HEK25a51ko_1.png')"
   ]
  },
  {
   "cell_type": "code",
   "execution_count": null,
   "metadata": {},
   "outputs": [],
   "source": [
    "# res_HEK = pd.read_csv('../../data/NAD_cell_lines/pr_slc25a51ko_wt_pvalue.csv', sep='\\t', index_col=0)\n",
    "res_HEK = pd.read_csv('../data/pr_slc25a51ko_wt.csv', sep='\\t', index_col=0)\n",
    "res_HEK = util.reshape(res_HEK, include=None)\n",
    "# _res = res_HEK[res_HEK.compartment != 'extracellular'].groupby('metabolites').mean()\n",
    "_res = res_HEK[res_HEK.compartment.isin(['mitochondrial', 'nuclear', 'cytoplasm'])].groupby(\n",
    "    'metabolites').mean(numeric_only=True)"
   ]
  },
  {
   "cell_type": "code",
   "execution_count": null,
   "metadata": {},
   "outputs": [],
   "source": []
  },
  {
   "cell_type": "code",
   "execution_count": null,
   "metadata": {},
   "outputs": [],
   "source": [
    "df = pd.concat((mets.mean(axis=1), _res.mean(axis=1),\n",
    "                mets.std(axis=1), _res.std(axis=1),#), axis=1).dropna()\n",
    "                util.calculate_cc(rna[~(rna == 0).all(axis=1)], grouping=None)), axis=1).dropna()\n",
    "# df = pd.concat((m_ko_wt.mean(axis=1), _res_c.mean(axis=1), \n",
    "#                 m_ko_wt.std(axis=1), _res.std(axis=1),\n",
    "#                 util.calculate_cc(rna_ko, grouping='cytoplasm')), axis=1).dropna()\n",
    "# df = pd.concat((m_ko_wt.mean(axis=1), _res_m.mean(axis=1), \n",
    "#                 m_ko_wt.std(axis=1), _res.std(axis=1),\n",
    "#                 util.calculate_cc(rna_ko, grouping='mitochondrial')), axis=1).dropna()\n",
    "df.columns = ['measured', 'predicted', 'measured_std', 'predicted_std', 'control_coeff']\n",
    "# df['hue'] = 'C0'\n",
    "# df.loc[(df.p > 0.05), 'hue'] = 'grey'\n",
    "# df.loc[(df.predicted < 1.01) & (df.predicted > 0.99), 'hue'] = 'grey'\n",
    "# df.loc[(df.measured < 1.1) & (df.measured > 0.9), 'hue'] = 'grey'\n",
    "\n",
    "import utility\n",
    "def get_mapped_genes(model, met):\n",
    "    mapped_genes = rna.index.intersection(\n",
    "        utility.get_genes_from_metabolite(model, met))\n",
    "    return mapped_genes\n",
    "\n",
    "def total_genes(model, met):\n",
    "    total_genes = utility.get_genes_from_metabolite(model, met)\n",
    "    return total_genes\n",
    "\n",
    "# mapped_genes = [len(get_mapped_genes(model, met)) for met in df.index]\n",
    "\n",
    "coverage = {met: 100*len(get_mapped_genes(model, met))/len(total_genes(model, met)) for met in df.index}\n",
    "df['coverage (%)'] = pd.Series(coverage)\n",
    "\n",
    "# df = df[df.index.isin(cons_met.index)]\n",
    "# df = df[~df.index.isin(['ADP', 'Adenosine monophosphate', 'Adenosine triphosphate', 'Cyclic AMP', \n",
    "#                         'L-Tryptophan', 'Fructose 6-phosphate', 'Glucose 6-phosphate', 'D-Glucose'\n",
    "#                         ])]\n",
    "df = df.rename(index={'Adenosine monophosphate': 'AMP', 'Adenosine triphosphate': 'ATP', 'Cyclic AMP': 'cAMP'})"
   ]
  },
  {
   "cell_type": "code",
   "execution_count": null,
   "metadata": {},
   "outputs": [],
   "source": [
    "df = df.reset_index()\n",
    "df.columns = ['Metabolite name', 'Measured', 'Predicted', 'Measured std_dev',\n",
    "              'Predicted std_dev', 'Control coeff', 'Coverage (%)']\n",
    "df.to_csv('../data/Supplementary_Table_S1.csv', sep='\\t', float_format='%.3f')"
   ]
  },
  {
   "cell_type": "code",
   "execution_count": null,
   "metadata": {},
   "outputs": [],
   "source": []
  },
  {
   "cell_type": "code",
   "execution_count": null,
   "metadata": {},
   "outputs": [],
   "source": [
    "sns.set_context('talk')\n",
    "fig, ax = plt.subplots(figsize=(8,6))\n",
    "ax.scatter(x=np.log2(df['predicted']), y=np.log2(df['measured']), \n",
    "        #    c=df['hue'], \n",
    "           alpha=0.8)\n",
    "ax.axhline(y=0.0, c='k', ls='--')\n",
    "ax.axvline(x=0.0, c='k', ls='--')\n",
    "plt.xlim(-0.5, 0.5)\n",
    "plt.ylim(-2.5, 2.5)\n",
    "ax.set_xlabel('log$_2$(predicted change)')\n",
    "ax.set_ylabel('log$_2$(measured change)')\n",
    "\n",
    "plot.add_percentage(df=df, ax=ax, colname2='predicted', colname='measured',\n",
    "                    show_sc_percentages=False, fsize=15,\n",
    "                    l=(0.1, 0.9), l2=(0.7, 0.9), l3=(0.1, 0.3), l4=(0.7, 0.3))\n",
    "# fig.savefig('../../images/NAD_cell_lines/SLC25A51ko/parity_slc25a51ko_mean.png', dpi=300, bbox_inches='tight')\n",
    "# fig.savefig('../../images/NAD_cell_lines/SLC25A51ko/parity_slc25a51ko_mean.svg', bbox_inches='tight')\n",
    "plot.add_metabolite_names1(df=df, ax=ax, colname2='predicted', colname='measured', fsize=8)"
   ]
  },
  {
   "cell_type": "code",
   "execution_count": null,
   "metadata": {},
   "outputs": [],
   "source": [
    "fig, ax = plt.subplots(figsize=(8,6))\n",
    "scatter_with_errorbar(xdata=np.log2(df['predicted']), ydata=np.log2(df['measured']), \n",
    "                      xerr=df['predicted_std'], yerr=df['measured_std'], ax=ax, \n",
    "                      colors='C0', figtitle_suffix=' (RNAseq)', legend_loc='upper right', \n",
    "                      compartment=False, xlabel='log$_2$(predicted change)', \n",
    "                      ylabel='log$_2$(measured change)', cmap=None, fig_title=False, \n",
    "                    xlim=(-0.5, 0.5))\n",
    "plot.add_percentage(df=df, ax=ax, colname2='predicted', colname='measured',\n",
    "                    show_sc_percentages=False, fsize=15,\n",
    "                    l=(0.1, 0.9), l2=(0.7, 0.9), l3=(0.1, 0.3), l4=(0.7, 0.3))\n",
    "plot.add_metabolite_names1(df=df, ax=ax, colname2='predicted', colname='measured', \n",
    "                           fsize=8, l=(0.15, 0.85), l2=(0.7, 0.85), l3=(0.1, 0.25), l4=(0.7, 0.25),\n",
    "                           n3=2)\n",
    "fig.savefig('../../biomarker_predictions/images/NAD_cell_lines/SLC25A51ko/parity_with_errorbars_slc25a51ko_mean.svg', \n",
    "            dpi=300, bbox_inches='tight')"
   ]
  },
  {
   "cell_type": "code",
   "execution_count": null,
   "metadata": {},
   "outputs": [],
   "source": []
  },
  {
   "cell_type": "code",
   "execution_count": null,
   "metadata": {},
   "outputs": [],
   "source": [
    "# # met = 'L-Tryptophan'\n",
    "# for met in df.index:\n",
    "#     ng = get_genes_from_metabolite(met)\n",
    "#     common = rna.index.intersection(ng)\n",
    "#     net_control = gs[gs.index == met].multiply((rna_ko.mean(axis=1) - rna_wt.mean(axis=1)).div(rna_wt.mean(axis=1), axis=0)).sum().sum()\n",
    "#     # net_control = gs[gs.index == met].multiply(1 - df_ko.mean(axis=1)).replace(np.nan, 0.0).sum().sum()\n",
    "#     # delta5percent = df_ko[df_ko.index.isin(common)][(df_ko.mean(axis=1) > 1.05) | (df_ko.mean(axis=1) < 0.95)]\n",
    "#     # print(f'{len(ng)} genes for {met}')\n",
    "#     # print(f'{len(common)} common genes for {met}')\n",
    "#     # print(f'{len(delta5percent)} genes with 5% change for {met}')\n",
    "#     print(f'control on {met}: {net_control}')"
   ]
  },
  {
   "cell_type": "code",
   "execution_count": null,
   "metadata": {},
   "outputs": [],
   "source": [
    "fig, ax = plt.subplots(figsize=(8, 6))\n",
    "scatter_with_errorbar(ydata=np.log2(df['measured']), xdata=np.log2(df['predicted']),\n",
    "                      yerr=df['measured_std'], xerr=df['predicted_std'], ax=ax, \n",
    "                      ylabel='log$_2$(measured change)', xlabel='log$_2$(predicted change)')"
   ]
  },
  {
   "cell_type": "code",
   "execution_count": null,
   "metadata": {},
   "outputs": [],
   "source": [
    "mets = pd.DataFrame()\n",
    "for met in df.index:\n",
    "    nrxns = model.get_reactions_from_metabolite(met)\n",
    "    # print(f'{len(nrxns)} reactions catalysed by {df.index[0]}')\n",
    "    ngprs = {k:v for k,v in model.gpr.items() if k in nrxns.abbreviation.tolist()}\n",
    "    # print(f'{len(ngprs)} reactions with GPRs')\n",
    "    mapped_gprs = nm.eval_gpr(ngprs, model, pdict)\n",
    "    mets =  mets.append(pd.Series([met, len(nrxns), len(ngprs), len(mapped_gprs[mapped_gprs != 1.0].index.intersection(ngprs.keys()))]), ignore_index=True)\n",
    "    # print(f'{len(mapped_gprs[mapped_gprs != 1.0].index.intersection(ngprs.keys()))} out of {len(ngprs)} reactions with mapped GPRs')\n",
    "mets.columns = ['metabolite', 'total number of rxns', 'number of rxns with gpr', 'number of rxns with mapped gpr']\n",
    "\n",
    "_df = df.drop('control_coeff', axis=1).rename(columns={'measured':'measured change', 'predicted':'predicted change'})\n",
    "_df.loc[(_df['predicted change'] > 1.0) & (_df['measured change'] > 1.0), 'quadrant'] = 'UR'\n",
    "_df.loc[(_df['predicted change'] < 1.0) & (_df['measured change'] > 1.0), 'quadrant'] = 'UL'\n",
    "_df.loc[(_df['predicted change'] < 1.0) & (_df['measured change'] < 1.0), 'quadrant'] = 'LL'\n",
    "_df.loc[(_df['predicted change'] > 1.0) & (_df['measured change'] < 1.0), 'quadrant'] = 'LR'\n",
    "_df = _df.merge(mets, left_on=_df.index, right_on='metabolite').set_index('metabolite')\n",
    "_df.reset_index().to_excel('../../manuscript/results_slc25a51ko_rnaseq.xlsx', index=False)"
   ]
  },
  {
   "cell_type": "code",
   "execution_count": null,
   "metadata": {},
   "outputs": [],
   "source": [
    "st1 = pd.read_excel('../../manuscript/results_slc25a51ko_rnaseq.xlsx')\n",
    "st1.quadrant = st1.quadrant.map({'upper right': 'UR', 'upper left': 'UL', 'lower left': 'LL', 'lower right': 'LR'})"
   ]
  },
  {
   "cell_type": "code",
   "execution_count": null,
   "metadata": {},
   "outputs": [],
   "source": [
    "st1.to_excel('../../manuscript/results_slc25a51ko_rnaseq.xlsx', index=False)"
   ]
  },
  {
   "cell_type": "code",
   "execution_count": null,
   "metadata": {},
   "outputs": [],
   "source": []
  },
  {
   "cell_type": "code",
   "execution_count": null,
   "metadata": {},
   "outputs": [],
   "source": [
    "sns.set_context('talk')\n",
    "sns.set_style('ticks')\n",
    "_df = df.copy()\n",
    "_df = _df.rename(index={'Adenosine monophosphate': 'AMP', 'Adenosine triphosphate': 'ATP', 'Cyclic AMP': 'cAMP'})\n",
    "# _df = _df[(_df['measured'].le(0.9)) | (_df['measured'].ge(1.1))]\n",
    "# _df = _df[(_df['predicted'].le(0.99)) | (_df['predicted'].ge(1.01))]\n",
    "plot.parity(data=_df, xcolumn='measured', ycolumn='predicted', \n",
    "            show_percentage=True, show_names=True, cc=True, cc_column='coverage',\n",
    "            ub=1.0, lb=0.5, nb=6, cbar_cmap='Blues', alpha=1.0, cbar_label='coverage of metabolic genes by RNA-Seq',\n",
    "            figsize=(8, 6), save=False, edgecolor=None, #figtitle='cytosolic',\n",
    "            filename='../../images/NAD_cell_lines/SLC25A51ko/parity_slc25a51ko_coverageRNASeq_mean_mcn.png',\n",
    "            ylabel='log$_2$(measured change)', xlabel='log$_2$(predicted change)',\n",
    "            n=[1, 1, 2, 1], fsize=10, xlim=(-0.5, 0.5), ylim=(-2.5, 2.5),\n",
    "            l_p=[(0.02, 0.95), (0.65, 0.95), (0.02, 0.35), (0.65, 0.35)],\n",
    "            l_n=[(0.02, 0.90), (0.65, 0.90), (0.02, 0.30), (0.65, 0.30)])\n",
    "\n",
    "plot.parity(data=_df, xcolumn='measured', ycolumn='predicted', \n",
    "            show_percentage=True, show_names=True, cc=True, cc_column='control_coeff',\n",
    "            ub=1.0, lb=0.5, nb=5, cbar_cmap='Reds', alpha=1.0, cbar_label='probability score',\n",
    "            figsize=(8, 6), save=False, edgecolor=None, #figtitle='cytosolic',\n",
    "            filename='../../images/NAD_cell_lines/SLC25A51ko/parity_slc25a51ko_probability_mean_mcn.png',\n",
    "            ylabel='log$_2$(measured change)', xlabel='log$_2$(predicted change)',\n",
    "            n=[1, 1, 2, 1], fsize=10, xlim=(-0.5, 0.5), ylim=(-2.5, 2.5),\n",
    "            l_p=[(0.02, 0.95), (0.65, 0.95), (0.02, 0.35), (0.65, 0.35)],\n",
    "            l_n=[(0.02, 0.90), (0.65, 0.90), (0.02, 0.30), (0.65, 0.30)])"
   ]
  },
  {
   "cell_type": "code",
   "execution_count": null,
   "metadata": {},
   "outputs": [],
   "source": [
    "sns.set_context('talk')\n",
    "sns.set_style('ticks')\n",
    "_df = df.copy()\n",
    "# _df = _df[(_df['measured'].le(0.9)) | (_df['measured'].ge(1.1))]\n",
    "# _df = _df[(_df['predicted'].le(0.99)) | (_df['predicted'].ge(1.01))]\n",
    "plot.parity(data=_df, xcolumn='measured', ycolumn='predicted', \n",
    "            show_percentage=True, show_names=True, cc=False, cc_column='coverage',\n",
    "            ub=1.0, lb=0.5, nb=6, cbar_cmap='Blues', alpha=1.0, cbar_label='coverage of metabolic genes by RNA-Seq',\n",
    "            figsize=(7, 6), save=True, edgecolor=None, #figtitle='cytosolic',\n",
    "            filename='../../images/NAD_cell_lines/SLC25A51ko/parity_slc25a51ko_mean.svg',\n",
    "            ylabel='log$_2$(measured change)', xlabel='log$_2$(predicted change)',\n",
    "            n=[1, 1, 2, 1], fsize=9, xlim=(-0.6, 0.6), ylim=(-2.5, 2.5),\n",
    "            l_p=[(0.02, 0.95), (0.65, 0.95), (0.02, 0.35), (0.65, 0.35)],\n",
    "            l_n=[(0.02, 0.90), (0.65, 0.90), (0.02, 0.30), (0.65, 0.30)])"
   ]
  },
  {
   "cell_type": "code",
   "execution_count": null,
   "metadata": {},
   "outputs": [],
   "source": [
    "len(util.get_consistent_mets(_df[['measured', 'predicted']]).index)\n",
    "# len(_df)"
   ]
  },
  {
   "cell_type": "code",
   "execution_count": null,
   "metadata": {},
   "outputs": [],
   "source": [
    "len(util.get_consistent_mets(_df[['measured', 'predicted']]).index)\n",
    "len(_df)"
   ]
  },
  {
   "cell_type": "code",
   "execution_count": null,
   "metadata": {},
   "outputs": [],
   "source": [
    "29/45"
   ]
  },
  {
   "cell_type": "code",
   "execution_count": null,
   "metadata": {},
   "outputs": [],
   "source": [
    "sns.set_context('talk')\n",
    "sns.set_style('ticks')\n",
    "_df = df.copy()\n",
    "_df = _df[(_df['measured'].le(0.9)) | (_df['measured'].ge(1.1))]\n",
    "_df = _df[(_df['predicted'].le(0.99)) | (_df['predicted'].ge(1.01))]\n",
    "plot.parity(data=_df, xcolumn='measured', ycolumn='predicted', \n",
    "            show_percentage=True, show_names=True, cc=True, cc_column='coverage',\n",
    "            ub=1.0, lb=0.5, nb=6, cbar_cmap='Blues', alpha=1.0, cbar_label='coverage of metabolic genes by RNA-Seq',\n",
    "            figsize=(8, 6), save=True, figtitle='cytosolic',\n",
    "            filename='../../images/NAD_cell_lines/SLC25A51ko/parity_slc25a51ko_coverageRNASeq_cyto.png',\n",
    "            ylabel='log$_2$(measured change)', xlabel='log$_2$(predicted change)',\n",
    "            n=[2, 1, 2, 1], fsize=10, xlim=(-0.5, 0.5), ylim=(-2.5, 2.5),\n",
    "            l_p=[(0.02, 0.95), (0.65, 0.95), (0.02, 0.35), (0.65, 0.35)],\n",
    "            l_n=[(0.02, 0.90), (0.65, 0.90), (0.02, 0.30), (0.65, 0.30)])\n",
    "\n",
    "plot.parity(data=_df, xcolumn='measured', ycolumn='predicted', \n",
    "            show_percentage=True, show_names=True, cc=True, cc_column='control_coeff',\n",
    "            ub=1.0, lb=0.45, nb=6, cbar_cmap='Reds', alpha=1.0, #cbar_label='coverage of metabolic genes by RNA-Seq',\n",
    "            figsize=(8, 6), save=True, figtitle='citosolic',\n",
    "            filename='../../images/NAD_cell_lines/SLC25A51ko/parity_slc25a51ko_probability_cyto.png',\n",
    "            ylabel='log$_2$(measured change)', xlabel='log$_2$(predicted change)',\n",
    "            n=[2, 1, 2, 1], fsize=10, xlim=(-0.5, 0.5), ylim=(-2.5, 2.5),\n",
    "            l_p=[(0.02, 0.95), (0.65, 0.95), (0.02, 0.35), (0.65, 0.35)],\n",
    "            l_n=[(0.02, 0.90), (0.65, 0.90), (0.02, 0.30), (0.65, 0.30)])\n"
   ]
  },
  {
   "cell_type": "code",
   "execution_count": null,
   "metadata": {},
   "outputs": [],
   "source": [
    "consistent = util.get_consistent_mets(df.drop(['control_coeff', 'measured_std', 'predicted_std'], axis=1))\n",
    "print(f'Consitent metabolites ({len(consistent.index)}): {consistent.index}')\n",
    "unconsistent = df.index.difference(consistent.index)\n",
    "print(f'Unconsitent metabolites ({len(unconsistent)}): {unconsistent}')"
   ]
  },
  {
   "cell_type": "code",
   "execution_count": null,
   "metadata": {},
   "outputs": [],
   "source": []
  },
  {
   "cell_type": "code",
   "execution_count": null,
   "metadata": {},
   "outputs": [],
   "source": [
    "met = 'L-Malic acid'\n",
    "_df = model.get_reactions_from_metabolite(met)\n",
    "# _df1 = _df[~(_df.gpr.isna())]\n",
    "print(f'Total number of reactions: {len(_df.abbreviation.unique())}')\n",
    "ng = get_genes_from_metabolite(met)\n",
    "print(f'Number of genes: {len(ng)}')\n",
    "print(f'covered by rnaseq: {len(rna.index.intersection(ng))}')\n",
    "# print(f'Missing number of reactions: {len(_df1[_df1.weight == 1.0])}')"
   ]
  },
  {
   "cell_type": "code",
   "execution_count": null,
   "metadata": {},
   "outputs": [],
   "source": [
    "_mets = pd.DataFrame()\n",
    "for met in df.index:\n",
    "    _dfr = get_rxns_from_metabolite(model, metabolite=met, rna_seq=True)\n",
    "    _df1r = _dfr[~(_dfr.gpr.isna())]\n",
    "    _dfp = get_rxns_from_metabolite(model, metabolite=met, rna_seq=False)\n",
    "    _df1p = _dfp[~(_dfp.gpr.isna())]\n",
    "    _mets = _mets.append(pd.Series([met, len(_dfr), len(_df1r), len(_df1r[_df1r.weight == 1.0]), len(_df1p[_df1p.weight == 1.0])]), ignore_index=True)\n",
    "_mets.columns = ['metabolite', 'total_rxns', 'rxns_with_gpr', 'rxns_with_missing_gpr_rnaseq', 'rxns_with_missing_gpr_proteomics']"
   ]
  },
  {
   "cell_type": "code",
   "execution_count": null,
   "metadata": {},
   "outputs": [],
   "source": [
    "_mets.to_excel('../manuscript/results_coverage_slc25a51ko.xlsx', index=False)"
   ]
  },
  {
   "cell_type": "code",
   "execution_count": null,
   "metadata": {},
   "outputs": [],
   "source": [
    "gs = util.reshape(model.gs, include=None)"
   ]
  },
  {
   "cell_type": "code",
   "execution_count": null,
   "metadata": {},
   "outputs": [],
   "source": [
    "gs_mets = gs.query('metabolites in @_mets.metabolite and compartment != \"extracellular\"').groupby('metabolites').mean()"
   ]
  },
  {
   "cell_type": "code",
   "execution_count": null,
   "metadata": {},
   "outputs": [],
   "source": [
    "control = pd.DataFrame()\n",
    "tol = 1e-2\n",
    "for met in _mets.metabolite:\n",
    "    _gs = gs_mets.query(f'metabolites == \"{met}\"').max()\n",
    "    le_gs = _gs[_gs.le(-tol)].sort_values().index[-5:].to_list()\n",
    "    ge_gs = _gs[_gs.ge(tol)].sort_values().index[-5:].to_list()\n",
    "    # _gs = _gs[_gs.le(-1e-2) | _gs.ge(1e-2)]\n",
    "    nsub = len(model.get_subsystem_from_gene(le_gs+ge_gs).subsystem.unique())\n",
    "    control = control.append(pd.Series([met, 10, nsub]), ignore_index=True)\n",
    "    # print(f'{met}: {_gs.shape[0]} genes involved in {nsub} susbsystems')\n",
    "control.columns = ['metabolite', 'no. of genes', 'subsystems']"
   ]
  },
  {
   "cell_type": "code",
   "execution_count": null,
   "metadata": {},
   "outputs": [],
   "source": [
    "control#.to_excel('../manuscript/results_control_slc25a51ko.xlsx', index=False)"
   ]
  },
  {
   "cell_type": "code",
   "execution_count": null,
   "metadata": {},
   "outputs": [],
   "source": []
  },
  {
   "cell_type": "code",
   "execution_count": null,
   "metadata": {},
   "outputs": [],
   "source": [
    "sns.set_context('paper')\n",
    "sns.clustermap(data=util.drop_constant_columns(gs_mets), cmap='coolwarm', center=0.0, \n",
    "            xticklabels=False, yticklabels=True)"
   ]
  },
  {
   "cell_type": "code",
   "execution_count": null,
   "metadata": {},
   "outputs": [],
   "source": [
    "sns.kdeplot(data=gs_mets)"
   ]
  },
  {
   "cell_type": "code",
   "execution_count": null,
   "metadata": {},
   "outputs": [],
   "source": [
    "res_p = pd.read_csv('../data/NAD_cell_lines/pr_centrality_new_method_prot_HEK25a51ko.csv', sep='\\t', index_col=0)\n",
    "res_HEK = pd.read_csv('../data/NAD_cell_lines/pr_centrality_new_method_HEK25a51ko.csv', sep='\\t', index_col=0)\n",
    "_df = pd.concat((res_HEK.mean(axis=1), res_p.mean(axis=1)), axis=1)\n",
    "_df = _df.rename(columns={1: 'Proteomics', 0: 'RNA-Seq'})\n",
    "# _df1 = util.reshape(_df, include=None)\n",
    "# _df2 = pd.concat((_df1.groupby('metabolites').mean(),\n",
    "#            m_ko_wt.mean(axis=1).rename('metabolomics')), axis=1).dropna()"
   ]
  },
  {
   "cell_type": "code",
   "execution_count": null,
   "metadata": {},
   "outputs": [],
   "source": [
    "sns.kdeplot(data=_df, shade=True)"
   ]
  },
  {
   "cell_type": "code",
   "execution_count": null,
   "metadata": {},
   "outputs": [],
   "source": []
  },
  {
   "cell_type": "code",
   "execution_count": null,
   "metadata": {},
   "outputs": [],
   "source": [
    "fig, ax = plt.subplots(figsize=(8, 6))\n",
    "sns.scatterplot(y='metabolomics', x='rnaseq', data=np.log2(_df2), alpha=0.8, label='RNA-seq', ax=ax)\n",
    "sns.scatterplot(y='metabolomics', x='proteomics', data=np.log2(_df2), alpha=0.8, label='Proteomics', ax=ax)\n",
    "ax.axhline(0, color='black', linestyle='--')\n",
    "ax.axvline(0, color='black', linestyle='--')\n",
    "plt.ylabel('log$_2$(measured change)')\n",
    "plt.xlabel('log$_2$(predicted change)')\n",
    "plt.xlim((-1.5, 1.5))\n",
    "plt.ylim((-3, 3))\n",
    "fig.savefig('../images/NAD_cell_lines/SLC25A51ko/parity_rp_new_method_slc25a51ko.png', dpi=300, bbox_inches='tight')"
   ]
  },
  {
   "cell_type": "code",
   "execution_count": null,
   "metadata": {},
   "outputs": [],
   "source": []
  },
  {
   "cell_type": "code",
   "execution_count": null,
   "metadata": {},
   "outputs": [],
   "source": [
    "_rna = util.divide_all_columns_by_each_column(rna)\n",
    "_prot = util.divide_all_columns_by_each_column(prot)"
   ]
  },
  {
   "cell_type": "code",
   "execution_count": null,
   "metadata": {},
   "outputs": [],
   "source": [
    "cols = [i for i in _prot.columns if (i.split('_')[-2] == 'wt') and (i.split('_')[0] == 'ko')]\n",
    "_prot_ko = _prot[cols]"
   ]
  },
  {
   "cell_type": "code",
   "execution_count": null,
   "metadata": {},
   "outputs": [],
   "source": [
    "cols = [i for i in _rna.columns if (i.split('_')[-2] == 'wtHEK293') and (i.split('_')[0] == 'HEK25a51ko')]\n",
    "_rna_ko = _rna[cols]\n",
    "\n"
   ]
  },
  {
   "cell_type": "code",
   "execution_count": null,
   "metadata": {},
   "outputs": [],
   "source": [
    "common_genes = rna.index.intersection(prot.index)\n",
    "_rp = pd.concat([_rna_ko.query('index in @common_genes').mean(axis=1),\n",
    "                 _prot_ko.query('index in @common_genes').mean(axis=1)], axis=1).replace(np.inf, np.nan).dropna()\n",
    "_rp.columns = ['RNA-Seq', 'Proteomics']\n",
    "                "
   ]
  },
  {
   "cell_type": "code",
   "execution_count": null,
   "metadata": {},
   "outputs": [],
   "source": [
    "import scipy.stats as stats\n",
    "sns.set_context('talk', font_scale=1.2)\n",
    "r, p = stats.pearsonr(x=_rp['RNA-Seq'], y=_rp['Proteomics'])\n",
    "g = sns.jointplot(x='RNA-Seq', y='Proteomics', data=np.log2(_rp), kind='reg', \n",
    "                  height=8, color='royalblue', marginal_ticks=True)\n",
    "g.set_axis_labels(xlabel='log$_2$(change in RNA-Seq)', ylabel='log$_2$(change in Proteomics)')\n",
    "g.ax_joint.annotate(f'$r = {r:.2f}$',\n",
    "                    xy=(0.75, 0.6), xycoords='axes fraction',\n",
    "                    ha='left', va='center',\n",
    "                    bbox={'boxstyle': 'round', \n",
    "                          'fc': 'powderblue', \n",
    "                          #'ec': 'navy'\n",
    "                          })\n",
    "g.savefig('../images/NAD_cell_lines/SLC25A51ko/jointplot_rnaseq_vs_proteomics.png', dpi=300, bbox_inches='tight')"
   ]
  },
  {
   "cell_type": "code",
   "execution_count": null,
   "metadata": {},
   "outputs": [],
   "source": []
  }
 ],
 "metadata": {
  "kernelspec": {
   "display_name": "base",
   "language": "python",
   "name": "python3"
  },
  "language_info": {
   "codemirror_mode": {
    "name": "ipython",
    "version": 3
   },
   "file_extension": ".py",
   "mimetype": "text/x-python",
   "name": "python",
   "nbconvert_exporter": "python",
   "pygments_lexer": "ipython3",
   "version": "3.11.5"
  },
  "orig_nbformat": 4
 },
 "nbformat": 4,
 "nbformat_minor": 2
}
