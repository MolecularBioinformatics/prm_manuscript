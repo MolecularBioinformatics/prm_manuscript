{
 "cells": [
  {
   "cell_type": "code",
   "execution_count": null,
   "metadata": {},
   "outputs": [],
   "source": [
    "# -*- coding: utf-8 -*-\n",
    "import recon\n",
    "import plotting as plot\n",
    "import numpy as np\n",
    "import seaborn as sns\n",
    "import pandas as pd\n",
    "import utilities\n",
    "import workflows as wf\n",
    "import warnings\n",
    "warnings.filterwarnings('ignore')\n",
    "\n",
    "\n",
    "model = recon.Recon()\n",
    "util = utilities.Utilities()\n",
    "sns.set_context(\"talk\")"
   ]
  },
  {
   "cell_type": "markdown",
   "metadata": {},
   "source": [
    "### Metabolomics data"
   ]
  },
  {
   "cell_type": "code",
   "execution_count": null,
   "metadata": {},
   "outputs": [],
   "source": [
    "met_slc25a51ko = pd.read_csv('../data/metabolomics_slc25a51ko_vs_parental.csv', \n",
    "                             sep='\\t', index_col=0)\n",
    "met_uc = pd.read_csv('../data/metabolomics_uc_vs_healthy.csv', sep=',')"
   ]
  },
  {
   "cell_type": "markdown",
   "metadata": {},
   "source": [
    "### Predicted change"
   ]
  },
  {
   "cell_type": "code",
   "execution_count": null,
   "metadata": {},
   "outputs": [],
   "source": [
    "res_slc25a51ko = pd.read_csv('../data/pr_slc25a51ko_wt.csv', sep='\\t', index_col=0)\n",
    "res_uc = pd.read_csv('../data/pr_prot_uc_vs_healthy.csv', sep='\\t', index_col=0)"
   ]
  },
  {
   "cell_type": "markdown",
   "metadata": {},
   "source": [
    "### RNA-Seq data"
   ]
  },
  {
   "cell_type": "code",
   "execution_count": null,
   "metadata": {},
   "outputs": [],
   "source": [
    "rna_slc25a51ko = pd.read_csv('../data/rnaseq_slc25a51ko_vs_parental.csv', sep='\\t', index_col=0)\n",
    "rna_slc25a51ko = util.map_gene(df=rna_slc25a51ko, g_mapping=model.genes, mapping_column='ensembl_gene')"
   ]
  },
  {
   "cell_type": "markdown",
   "metadata": {},
   "source": [
    "# Histograms"
   ]
  },
  {
   "cell_type": "code",
   "execution_count": null,
   "metadata": {},
   "outputs": [],
   "source": [
    "# Figure 2a\n",
    "plot.hist(pr=np.log2(res_slc25a51ko.mean(axis=1)), bins=11, figsize=(8, 7), xlim=(-1.0, 1.0),\n",
    "          ylim=(0, 2e4), xlabel='log$_2$(predicted change)', ylabel='no. of metabolites',\n",
    "          save=False, filename=None)"
   ]
  },
  {
   "cell_type": "code",
   "execution_count": null,
   "metadata": {},
   "outputs": [],
   "source": [
    "# Figure 3a\n",
    "plot.hist(pr=np.log2(res_uc.mean(axis=1)),\n",
    "          figsize=(8, 7), xlim=(-1., 1.), bins=19, color='C1', ylim=(0, 2e4),\n",
    "          xlabel='log$_2$(predicted change)', ylabel='no. of metabolites',\n",
    "          save=False, filename=None)"
   ]
  },
  {
   "cell_type": "code",
   "execution_count": null,
   "metadata": {},
   "outputs": [],
   "source": []
  },
  {
   "cell_type": "markdown",
   "metadata": {},
   "source": [
    "# Parity plots"
   ]
  },
  {
   "cell_type": "code",
   "execution_count": null,
   "metadata": {},
   "outputs": [],
   "source": [
    "res_HEK = util.reshape(res_slc25a51ko, include=None)\n",
    "# _res = res_HEK.groupby('metabolites').mean(numeric_only=True)\n",
    "_res = res_HEK[res_HEK.compartment.isin(['mitochondrial', 'nuclear', 'cytoplasm'])].groupby(\n",
    "    'metabolites').mean(numeric_only=True)\n",
    "df = wf.prep_data(model=model, rna=rna_slc25a51ko, mets=met_slc25a51ko, res=_res)"
   ]
  },
  {
   "cell_type": "code",
   "execution_count": null,
   "metadata": {},
   "outputs": [],
   "source": [
    "# Figure 2b\n",
    "_df = df[~df.index.isin(['D-Glucose', ])]\n",
    "plot.parity(data=_df, xcolumn='Measured', ycolumn='Predicted',\n",
    "            show_percentage=True, show_names=True, alpha=1.0, \n",
    "            figsize=(7, 6), save=False, filename=None, edgecolor=None,\n",
    "            ylabel='log$_2$(measured change)', xlabel='log$_2$(predicted change)',\n",
    "            n=[1, 1, 2, 1], fsize=9, xlim=(-0.6, 0.6), ylim=(-2.5, 2.5),\n",
    "            l_p=[(0.02, 0.95), (0.65, 0.95), (0.02, 0.35), (0.65, 0.35)],\n",
    "            l_n=[(0.02, 0.90), (0.65, 0.90), (0.02, 0.30), (0.65, 0.30)])"
   ]
  },
  {
   "cell_type": "code",
   "execution_count": null,
   "metadata": {},
   "outputs": [],
   "source": []
  },
  {
   "cell_type": "code",
   "execution_count": null,
   "metadata": {},
   "outputs": [],
   "source": [
    "# Figure 3b\n",
    "df = util.reshape(res_uc).groupby('metabolites').mean(numeric_only=True).reset_index()\n",
    "df = met_uc.merge(df, right_on='metabolites', left_on='vmh', how='inner')\n",
    "df = df.set_index('metabolites').drop('vmh', axis=1)\n",
    "df.columns = ['p', 'padj', 'Measured', 'Predicted']\n",
    "df['hue'] = 'C1'\n",
    "df.loc[(df.p > 0.05), 'hue'] = 'grey'\n",
    "df.loc[(df.Predicted < 1.01) & (df.Predicted > 0.99), 'hue'] = 'grey'\n",
    "df.loc[(df.Measured < 1.2) & (df.Measured > 0.8), 'hue'] = 'grey'"
   ]
  },
  {
   "cell_type": "code",
   "execution_count": null,
   "metadata": {},
   "outputs": [],
   "source": [
    "plot.parity(data=df.loc[df.hue == 'C1'], xcolumn='Measured', ycolumn='Predicted',\n",
    "            show_percentage=True, show_names=True, alpha=1.0,\n",
    "            xlim=(-0.25, 0.25), ylim=(-2.5, 2.5), edgecolor=None,\n",
    "            ylabel='log$_2$(measured change)', xlabel='log$_2$(predicted change)',\n",
    "            n=[1, 1, 2, 1], figsize=(10, 9), color='C1',\n",
    "            l_p=[(0.1, 0.95), (0.55, 0.95), (0.1, 0.35), (0.65, 0.35)],\n",
    "            l_n=[(0.1, 0.90), (0.65, 0.95), (0.1, 0.30), (0.65, 0.30)],\n",
    "            fsize=10, save=False, filename=None)"
   ]
  },
  {
   "cell_type": "code",
   "execution_count": null,
   "metadata": {},
   "outputs": [],
   "source": []
  },
  {
   "cell_type": "code",
   "execution_count": null,
   "metadata": {},
   "outputs": [],
   "source": [
    "# Figure S1a\n",
    "_df = df[~df.index.isin(['D-Glucose', ])]\n",
    "plot.parity_with_errorbars(df=_df, xcolumn='Predicted', ycolumn='Measured',\n",
    "                        xerr_column='Predicted std_dev', yerr_column='Measured std_dev',\n",
    "                        figsize=(8,7), xlim=(-0.5, 0.5), ylim=(-3.5, 3.5),\n",
    "                        show_metabolite_names=True, show_percentage=True,\n",
    "                        l_p=[(0.05, 0.95), (0.6, 0.95), (0.05, 0.35), (0.6, 0.35)],\n",
    "                        l_n=[(0.15, 0.90), (0.6, 0.90), (0.05, 0.30), (0.6, 0.30)],\n",
    "                        save=False, filename=None,\n",
    "                        n_n=[1, 1, 2, 1])"
   ]
  },
  {
   "cell_type": "code",
   "execution_count": null,
   "metadata": {},
   "outputs": [],
   "source": []
  }
 ],
 "metadata": {
  "kernelspec": {
   "display_name": "base",
   "language": "python",
   "name": "python3"
  },
  "language_info": {
   "codemirror_mode": {
    "name": "ipython",
    "version": 3
   },
   "file_extension": ".py",
   "mimetype": "text/x-python",
   "name": "python",
   "nbconvert_exporter": "python",
   "pygments_lexer": "ipython3",
   "version": "3.11.5"
  }
 },
 "nbformat": 4,
 "nbformat_minor": 2
}
