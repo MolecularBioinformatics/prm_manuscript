{
 "cells": [
  {
   "cell_type": "code",
   "execution_count": null,
   "metadata": {},
   "outputs": [],
   "source": [
    "import recon\n",
    "import plotting as plot\n",
    "import numpy as np\n",
    "import pandas as pd\n",
    "import seaborn as sns\n",
    "import utilities\n",
    "import warnings\n",
    "warnings.filterwarnings('ignore')\n",
    "\n",
    "model = recon.Recon()\n",
    "util = utilities.Utilities()"
   ]
  },
  {
   "cell_type": "markdown",
   "metadata": {},
   "source": [
    "### Metabolomics data"
   ]
  },
  {
   "cell_type": "code",
   "execution_count": null,
   "metadata": {},
   "outputs": [],
   "source": [
    "met_slc25a51ko = pd.read_csv('../data/metabolomics_slc25a51ko_vs_parental.csv', \n",
    "                             sep='\\t', index_col=0)\n",
    "met_uc = pd.read_csv('../data/metabolomics_uc_vs_healthy.csv', sep=',')"
   ]
  },
  {
   "cell_type": "markdown",
   "metadata": {},
   "source": [
    "### Proteomics data (UC vs Healthy)"
   ]
  },
  {
   "cell_type": "code",
   "execution_count": null,
   "metadata": {},
   "outputs": [],
   "source": [
    "prot_uc = pd.read_csv('../data/prot_uc_vs_healthy.csv', sep='\\t', index_col=0)\n",
    "prot_uc = util.map_gene(prot_uc, g_mapping=model.genes, mapping_column='symbol')"
   ]
  },
  {
   "cell_type": "markdown",
   "metadata": {},
   "source": [
    "### Predicted change"
   ]
  },
  {
   "cell_type": "code",
   "execution_count": null,
   "metadata": {},
   "outputs": [],
   "source": [
    "res_slc25a51ko = pd.read_csv('../data/pr_slc25a51ko_wt.csv', sep='\\t', index_col=0)\n",
    "res_uc = pd.read_csv('../data/pr_prot_uc_vs_healthy.csv', sep='\\t', index_col=0)"
   ]
  },
  {
   "cell_type": "markdown",
   "metadata": {},
   "source": [
    "# Histograms"
   ]
  },
  {
   "cell_type": "code",
   "execution_count": null,
   "metadata": {},
   "outputs": [],
   "source": [
    "# Figure 2a\n",
    "sns.set_context('talk', font_scale=1.0)\n",
    "plot.hist(pr=np.log2(res_slc25a51ko.mean(axis=1)), bins=13, figsize=(8, 7), xlim=(-1.0, 1.0),\n",
    "          ylim=(0, 2e4), xlabel='log$_2$(predicted change)', ylabel='no. of metabolites',\n",
    "          save=False, filename=None)"
   ]
  },
  {
   "cell_type": "code",
   "execution_count": null,
   "metadata": {},
   "outputs": [],
   "source": [
    "def prep_data(mets, res):\n",
    "    df = pd.concat((mets.mean(axis=1), res.mean(axis=1),\n",
    "                    mets.std(axis=1), res.std(axis=1)), axis=1).dropna()\n",
    "    df.columns = ['Measured', 'Predicted', 'Measured std_dev',\n",
    "                  'Predicted std_dev']\n",
    "    return df\n",
    "\n",
    "\n",
    "def rename_index(df):\n",
    "    df = df.rename(index={'Adenosine monophosphate': 'AMP',\n",
    "                          'Adenosine triphosphate': 'ATP',\n",
    "                          'Cyclic AMP': 'cAMP',\n",
    "                          '2,3-Diphosphoglyceric acid': '2,3-DPG',\n",
    "                          '6-Phosphogluconic acid': '6PG',\n",
    "                          'D-Sedoheptulose 7-phosphate': 'S7P',\n",
    "                          'Fructose 1,6-bisphosphate': 'F16BP',\n",
    "                          'Fructose 6-phosphate': 'F6P',\n",
    "                          'Glucose 1-phosphate': 'G1P',\n",
    "                          'Glucose 6-phosphate': 'G6P',\n",
    "                          'Phosphoenolpyruvic acid': 'PEP',\n",
    "                          'S-Adenosylmethionine': 'SAM',\n",
    "                          'N-Acetyl-L-aspartic acid': 'NAA',\n",
    "                          'Hydroxykynurenine': '3OHKYN'})\n",
    "    return df"
   ]
  },
  {
   "cell_type": "markdown",
   "metadata": {},
   "source": [
    "### RNA-Seq data"
   ]
  },
  {
   "cell_type": "code",
   "execution_count": null,
   "metadata": {},
   "outputs": [],
   "source": [
    "rna_slc25a51ko = pd.read_csv('../data/rnaseq_slc25a51ko_vs_parental.csv', sep='\\t', index_col=0)\n",
    "rna_slc25a51ko = util.map_gene(df=rna_slc25a51ko, g_mapping=model.genes, mapping_column='ensembl_gene')"
   ]
  },
  {
   "cell_type": "code",
   "execution_count": null,
   "metadata": {},
   "outputs": [],
   "source": [
    "res_HEK = util.reshape(res_slc25a51ko, include=None)\n",
    "_res = res_HEK[res_HEK.compartment.isin(['mitochondrial', 'nuclear', 'cytoplasm'])].groupby(\n",
    "    'metabolites').mean(numeric_only=True)\n",
    "df_mean = prep_data(mets=met_slc25a51ko, res=_res)"
   ]
  },
  {
   "cell_type": "code",
   "execution_count": null,
   "metadata": {},
   "outputs": [],
   "source": [
    "# Figure 2b\n",
    "sns.set_context('talk', font_scale=1.0)\n",
    "\n",
    "# _df = df_mean[df_mean.index.isin(mets_pvalue.fullName)]\n",
    "_df = rename_index(df_mean[~df_mean.index.isin(['D-Glucose', 'Nicotinic acid'])])\n",
    "plot.parity(data=_df, xcolumn='Measured', ycolumn='Predicted',\n",
    "            show_percentage=True, show_names=True, alpha=1.0, \n",
    "            figsize=(8, 7), edgecolor=None,\n",
    "            ylabel='log$_2$(measured change)', xlabel='log$_2$(predicted change)',\n",
    "            n=[2, 2, 2, 2], fsize=12, xlim=(-0.5, 0.5), ylim=(-2.5, 2.5),\n",
    "            l_p=[(0.02, 0.95), (0.6, 0.95), (0.02, 0.35), (0.6, 0.35)],\n",
    "            l_n=[(0.02, 0.90), (0.6, 0.90), (0.02, 0.30), (0.6, 0.30)],\n",
    "            save=False, filename=None)"
   ]
  },
  {
   "cell_type": "code",
   "execution_count": null,
   "metadata": {},
   "outputs": [],
   "source": [
    "# Figure 3a\n",
    "sns.set_context('talk', font_scale=1.0)\n",
    "plot.hist(pr=np.log2(res_uc.mean(axis=1)),\n",
    "          figsize=(8,7), xlim=(-1., 1.), bins=19, color='C1', ylim=(0, 2e4),\n",
    "          xlabel='log$_2$(predicted change)', ylabel='no. of metabolites',\n",
    "          save=False, filename=None)"
   ]
  },
  {
   "cell_type": "code",
   "execution_count": null,
   "metadata": {},
   "outputs": [],
   "source": [
    "# Figure 3b\n",
    "df = util.reshape(res_uc).groupby('metabolites').mean(numeric_only=True).reset_index()\n",
    "df = met_uc.merge(df, right_on='metabolites', left_on='vmh', how='inner')\n",
    "df = df.set_index('metabolites').drop('vmh', axis=1)\n",
    "df.columns = ['p', 'padj', 'Measured', 'Predicted']\n",
    "df['hue'] = 'C1'\n",
    "df.loc[(df.p > 0.05), 'hue'] = 'grey'\n",
    "df.loc[(df.Predicted < 1.01) & (df.Predicted > 0.99), 'hue'] = 'grey'"
   ]
  },
  {
   "cell_type": "code",
   "execution_count": null,
   "metadata": {},
   "outputs": [],
   "source": [
    "def rename_index(df):\n",
    "    df = df.rename(index={'3-Hydroxyhexadecanoylcarnitine': '3OH-C16-C',\n",
    "                          '3-Hydroxy-Isovaleryl Carnitine': '3OH-IV-C',\n",
    "                          '3-Hydroxy-11Z-octadecenoylcarnitine': '3OH-11Z-C18-C',\n",
    "                          '3-Hydroxydodecanoylcarnitine': '3OH-C12-C',\n",
    "                          '3-Hydroxy-Tetradecanoyl Carnitine': '3OH-C14-C', \n",
    "                          'Decanoylcarnitine': 'C10-C', \n",
    "                          'L-Octanoylcarnitine': 'C8-C',\n",
    "                          '(3S)-3-Hydroxylinoleoyl-CoA': '3OH-LC18-C',  \n",
    "                          'Isovaleryl Carnitine': 'IV-C', \n",
    "                          'N-Acetyl-L-aspartic acid': 'NAA',\n",
    "                          'Alpha-linolenyl carnitine': 'A-LC18-C',\n",
    "                          'Butyrylcarnitine': 'C4-C',\n",
    "                          'Tiglyl Carnitine': 'Tiglyl-C',\n",
    "                          'Glutaryl Carnitine': 'Glutaryl-C',\n",
    "                          'Hexanoyl Carnitine': 'C6-C',\n",
    "                          'Glycerol 3-phosphate': 'G3P',})\n",
    "    return df"
   ]
  },
  {
   "cell_type": "code",
   "execution_count": null,
   "metadata": {},
   "outputs": [],
   "source": [
    "sns.set_context('talk', font_scale=1.0)\n",
    "plot.parity(data=rename_index(df.loc[df.hue == 'C1']), xcolumn='Measured', ycolumn='Predicted',\n",
    "            show_percentage=True, show_names=True, alpha=1.0,\n",
    "            xlim=(-0.3, 0.3), ylim=(-2.5, 2.5), edgecolor=None,\n",
    "            ylabel='log$_2$(measured change)', xlabel='log$_2$(predicted change)',\n",
    "            n=[1, 2, 2, 1], figsize=(8, 7), color='C1',\n",
    "            l_p=[(0.1, 0.95), (0.6, 0.95), (0.1, 0.35), (0.65, 0.35)],\n",
    "            l_n=[(0.1, 0.90), (0.6, 0.90), (0.1, 0.30), (0.65, 0.30)],\n",
    "            fsize=12, save=False, filename=None)"
   ]
  },
  {
   "cell_type": "code",
   "execution_count": null,
   "metadata": {},
   "outputs": [],
   "source": []
  },
  {
   "cell_type": "markdown",
   "metadata": {},
   "source": [
    "## Figure 4"
   ]
  },
  {
   "cell_type": "code",
   "execution_count": null,
   "metadata": {},
   "outputs": [],
   "source": [
    "rna = pd.read_csv('../data/rnaseq_HEK293_complete.csv', sep='\\t', index_col=0)\n",
    "# rna = rna[~(rna == 0).any(axis=1)]\n",
    "rna = util.map_gene(df=rna, g_mapping=model.genes,\n",
    "                    mapping_column='ensembl_gene')\n",
    "rna = rna[rna.index.isin(rna_slc25a51ko.index)]\n",
    "rna = pd.concat((rna.filter(like='wtHEK293').mean(\n",
    "    axis=1), rna.filter(like='SLC25A51ko').mean(axis=1)), axis=1)\n",
    "rna.columns = ['wt', 'ko']\n",
    "rdict = (rna['ko']-(rna['wt'])).div(rna['wt'], axis=0)\n",
    "rdict = rdict.replace(np.inf, np.nan).dropna()"
   ]
  },
  {
   "cell_type": "code",
   "execution_count": null,
   "metadata": {},
   "outputs": [],
   "source": [
    "gs = model.gs\n",
    "\n",
    "gnames = model.genes.set_index('gene_number').to_dict()['symbol']\n",
    "gnames = {str(k): v for k,v in gnames.items()}"
   ]
  },
  {
   "cell_type": "code",
   "execution_count": null,
   "metadata": {},
   "outputs": [],
   "source": [
    "gs[rna_slc25a51ko.index].rename(columns=gnames).to_csv('../Supplementary_Table_S3.csv', sep='\\t')"
   ]
  },
  {
   "cell_type": "code",
   "execution_count": null,
   "metadata": {},
   "outputs": [],
   "source": [
    "# Fugure 4b\n",
    "_gs = util.reshape(gs.T.mul(rdict, axis=0).dropna().T, include=None)\n",
    "cm = plot.control_coeff(df=_gs.groupby('metabolites').mean(numeric_only=True),\n",
    "                        figsize=(8, 7))"
   ]
  },
  {
   "cell_type": "code",
   "execution_count": null,
   "metadata": {},
   "outputs": [],
   "source": [
    "# Figure 4c\n",
    "sns.set_context('talk', font_scale=1.0)\n",
    "\n",
    "fig, ax = plot.differential_exp(df=pd.DataFrame(rdict), ylabel='genes', figsize=(2, 7))"
   ]
  },
  {
   "cell_type": "code",
   "execution_count": null,
   "metadata": {},
   "outputs": [],
   "source": [
    "def rename_index(df):\n",
    "    df = df.rename(index={'Adenosine monophosphate': 'AMP',\n",
    "                        'Adenosine triphosphate': 'ATP', \n",
    "                        'Cyclic AMP': 'cAMP'})\n",
    "    return df"
   ]
  },
  {
   "cell_type": "code",
   "execution_count": null,
   "metadata": {},
   "outputs": [],
   "source": [
    "# Figure 4d\n",
    "sns.set_context('talk', font_scale=1.0)\n",
    "res_HEK = util.get_consistent_mets(res_slc25a51ko)\n",
    "res_HEK = util.reshape(res_HEK, include=None)\n",
    "\n",
    "_res = res_HEK[res_HEK.compartment.isin(['mitochondrial', 'nuclear', 'cytoplasm'])].groupby(\n",
    "    'metabolites').mean(numeric_only=True)\n",
    "df_mean = prep_data(mets=met_slc25a51ko, res=_res)\n",
    "df = pd.read_csv('../Supplementary_Table_S1.csv', sep='\\t', index_col=0)\n",
    "\n",
    "_df = df_mean[df_mean.index.isin(df[df.pvalue < 0.05].index)]\n",
    "_df = rename_index(_df[~_df.index.isin(['D-Glucose', 'Nicotinic acid'])])\n",
    "plot.parity(data=_df, xcolumn='Measured', ycolumn='Predicted',\n",
    "            show_percentage=True, show_names=True, alpha=1.0,\n",
    "            figsize=(8, 7), edgecolor=None,\n",
    "            ylabel='log$_2$(measured change)', xlabel='log$_2$(predicted change)',\n",
    "            n=[1, 1, 1, 1], fsize=12, xlim=(-0.5, 0.5), ylim=(-2.5, 2.5),\n",
    "            l_p=[(0.02, 0.95), (0.7, 0.95), (0.02, 0.35), (0.7, 0.35)],\n",
    "            l_n=[(0.02, 0.90), (0.7, 0.90), (0.02, 0.30), (0.7, 0.30)])"
   ]
  },
  {
   "cell_type": "code",
   "execution_count": null,
   "metadata": {},
   "outputs": [],
   "source": [
    "# Figure 4e\n",
    "## get consitently predicted metabolites\n",
    "res_HEK = util.get_consistent_mets(res_slc25a51ko)\n",
    "res_HEK = util.reshape(res_HEK, include=None)\n",
    "_res = res_HEK[res_HEK.compartment.isin(['mitochondrial', 'nuclear', 'cytoplasm'])].groupby(\n",
    "    'metabolites').mean(numeric_only=True)\n",
    "df_mean = prep_data(mets=met_slc25a51ko, res=_res)\n",
    "\n",
    "\n",
    "df = pd.read_csv('../Supplementary_Table_S1.csv', sep='\\t', index_col=0)\n",
    "_df = df_mean[df_mean.index.isin(df[df.pvalue < 0.05].index)]\n",
    "_df = rename_index(_df[~_df.index.isin(['D-Glucose', 'Nicotinic acid'])])\n",
    "_df = _df.rename(index={'ATP': 'Adenosine triphosphate'})\n",
    "\n",
    "_gs = util.reshape(gs.T.mul(rdict, axis=0).dropna().T, include=None)\n",
    "gs_met = _gs[_gs.metabolites.isin(_df.index)]\n",
    "gs_met = gs_met[gs_met.compartment != 'extracellular'].groupby('metabolites').mean(numeric_only=True)\n",
    "gs_met = gs_met.rename(columns=gnames)\n",
    "\n",
    "consistent = rename_index(util.get_consistent_mets(_df[['Measured', 'Predicted']])).index.to_list()\n",
    "_gs_met = rename_index(gs_met.T[(gs_met.T.abs() > 0.005).any(axis=1)].T)\n",
    "\n",
    "sns.set_context('talk', font_scale=0.8)\n",
    "cm = plot.response_coeff(df=_gs_met[_gs_met.index.isin(consistent)], figsize=(15, 7))\n",
    "cm.ax_heatmap.set_ylabel('')"
   ]
  },
  {
   "cell_type": "code",
   "execution_count": null,
   "metadata": {},
   "outputs": [],
   "source": [
    "_gs_met[_gs_met.index.isin(consistent)].to_csv('../Supplementary_Table_S4.csv', sep='\\t')"
   ]
  },
  {
   "cell_type": "code",
   "execution_count": null,
   "metadata": {},
   "outputs": [],
   "source": []
  }
 ],
 "metadata": {
  "kernelspec": {
   "display_name": "base",
   "language": "python",
   "name": "python3"
  },
  "language_info": {
   "codemirror_mode": {
    "name": "ipython",
    "version": 3
   },
   "file_extension": ".py",
   "mimetype": "text/x-python",
   "name": "python",
   "nbconvert_exporter": "python",
   "pygments_lexer": "ipython3",
   "version": "3.11.5"
  }
 },
 "nbformat": 4,
 "nbformat_minor": 2
}
